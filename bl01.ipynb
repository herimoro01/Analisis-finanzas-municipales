{
  "nbformat": 4,
  "nbformat_minor": 0,
  "metadata": {
    "colab": {
      "provenance": []
    },
    "kernelspec": {
      "name": "python3",
      "display_name": "Python 3"
    },
    "language_info": {
      "name": "python"
    }
  },
  "cells": [
    {
      "cell_type": "markdown",
      "source": [
        "# Análisis del gasto del municipio de Navojoa, Sonora en 2018."
      ],
      "metadata": {
        "id": "_PbkkGCvS2QK"
      }
    },
    {
      "cell_type": "code",
      "execution_count": null,
      "metadata": {
        "id": "xOMcU2KUSj1A"
      },
      "outputs": [],
      "source": [
        "import pandas as pd\n",
        "import numpy as np\n",
        "import matplotlib.pyplot as plt\n",
        "import seaborn as sns"
      ]
    },
    {
      "cell_type": "code",
      "source": [
        "# Obetenemos la carpeta de datos a partir de un enlace que nos descarga una carpeta comprimida\n",
        "carpeta = !wget https://www.inegi.org.mx/contenidos/programas/finanzas/datosabiertos/efipem_municipal_csv.zip"
      ],
      "metadata": {
        "id": "v7bYM0eOS1hu"
      },
      "execution_count": null,
      "outputs": []
    },
    {
      "cell_type": "code",
      "source": [
        "# Descomprimimos la carpeta\n",
        "!unzip /content/efipem_municipal_csv.zip"
      ],
      "metadata": {
        "colab": {
          "base_uri": "https://localhost:8080/"
        },
        "id": "rN-UnGXQXZFT",
        "outputId": "f5b60239-ccf7-45af-ba51-57c5d7bceb5c"
      },
      "execution_count": null,
      "outputs": [
        {
          "output_type": "stream",
          "name": "stdout",
          "text": [
            "Archive:  /content/efipem_municipal_csv.zip\n",
            "  inflating: catalogos/tc_entidad.csv  \n",
            "  inflating: catalogos/tc_municipio.csv  \n",
            "  inflating: conjunto_de_datos/efipem_municipal_anual_tr_cifra_1989.csv  \n",
            "  inflating: conjunto_de_datos/efipem_municipal_anual_tr_cifra_1990.csv  \n",
            "  inflating: conjunto_de_datos/efipem_municipal_anual_tr_cifra_1991.csv  \n",
            "  inflating: conjunto_de_datos/efipem_municipal_anual_tr_cifra_1992.csv  \n",
            "  inflating: conjunto_de_datos/efipem_municipal_anual_tr_cifra_1993.csv  \n",
            "  inflating: conjunto_de_datos/efipem_municipal_anual_tr_cifra_1994.csv  \n",
            "  inflating: conjunto_de_datos/efipem_municipal_anual_tr_cifra_1995.csv  \n",
            "  inflating: conjunto_de_datos/efipem_municipal_anual_tr_cifra_1996.csv  \n",
            "  inflating: conjunto_de_datos/efipem_municipal_anual_tr_cifra_1997.csv  \n",
            "  inflating: conjunto_de_datos/efipem_municipal_anual_tr_cifra_1998.csv  \n",
            "  inflating: conjunto_de_datos/efipem_municipal_anual_tr_cifra_1999.csv  \n",
            "  inflating: conjunto_de_datos/efipem_municipal_anual_tr_cifra_2000.csv  \n",
            "  inflating: conjunto_de_datos/efipem_municipal_anual_tr_cifra_2001.csv  \n",
            "  inflating: conjunto_de_datos/efipem_municipal_anual_tr_cifra_2002.csv  \n",
            "  inflating: conjunto_de_datos/efipem_municipal_anual_tr_cifra_2003.csv  \n",
            "  inflating: conjunto_de_datos/efipem_municipal_anual_tr_cifra_2004.csv  \n",
            "  inflating: conjunto_de_datos/efipem_municipal_anual_tr_cifra_2005.csv  \n",
            "  inflating: conjunto_de_datos/efipem_municipal_anual_tr_cifra_2006.csv  \n",
            "  inflating: conjunto_de_datos/efipem_municipal_anual_tr_cifra_2007.csv  \n",
            "  inflating: conjunto_de_datos/efipem_municipal_anual_tr_cifra_2008.csv  \n",
            "  inflating: conjunto_de_datos/efipem_municipal_anual_tr_cifra_2009.csv  \n",
            "  inflating: conjunto_de_datos/efipem_municipal_anual_tr_cifra_2010.csv  \n",
            "  inflating: conjunto_de_datos/efipem_municipal_anual_tr_cifra_2011.csv  \n",
            "  inflating: conjunto_de_datos/efipem_municipal_anual_tr_cifra_2012.csv  \n",
            "  inflating: conjunto_de_datos/efipem_municipal_anual_tr_cifra_2013.csv  \n",
            "  inflating: conjunto_de_datos/efipem_municipal_anual_tr_cifra_2014.csv  \n",
            "  inflating: conjunto_de_datos/efipem_municipal_anual_tr_cifra_2015.csv  \n",
            "  inflating: conjunto_de_datos/efipem_municipal_anual_tr_cifra_2016.csv  \n",
            "  inflating: conjunto_de_datos/efipem_municipal_anual_tr_cifra_2017.csv  \n",
            "  inflating: conjunto_de_datos/efipem_municipal_anual_tr_cifra_2018.csv  \n",
            "  inflating: conjunto_de_datos/efipem_municipal_anual_tr_cifra_2019.csv  \n",
            "  inflating: conjunto_de_datos/efipem_municipal_anual_tr_cifra_2020.csv  \n",
            "  inflating: conjunto_de_datos/efipem_municipal_anual_tr_cifra_2021.csv  \n",
            "  inflating: diccionario_de_datos/diccionario_datos_efipem_municipal_anual_1989_2021.csv  \n",
            "  inflating: metadatos/metadatos_efipem_municipal_anual_1989_2021.txt  \n",
            "  inflating: modelo_entidad_relacion/modelo_er_efipem_municipal_anual_1989_2021.png  \n"
          ]
        }
      ]
    },
    {
      "cell_type": "code",
      "source": [
        "# Leemos el archivo correspondiente al año 2018\n",
        "datos = pd.read_csv(\"/content/conjunto_de_datos/efipem_municipal_anual_tr_cifra_2018.csv\")"
      ],
      "metadata": {
        "id": "S6k74yDKXxv-"
      },
      "execution_count": null,
      "outputs": []
    },
    {
      "cell_type": "code",
      "source": [
        "datos.head()"
      ],
      "metadata": {
        "colab": {
          "base_uri": "https://localhost:8080/",
          "height": 337
        },
        "id": "vTWP2T1xVmF8",
        "outputId": "48081ac3-3bd8-42bc-ac51-b411d8ae6504"
      },
      "execution_count": null,
      "outputs": [
        {
          "output_type": "execute_result",
          "data": {
            "text/plain": [
              "                                            PROD_EST  COBERTURA  ANIO  \\\n",
              "0  Estadística de Finanzas Públicas Estatales y M...  Municipal  2018   \n",
              "1  Estadística de Finanzas Públicas Estatales y M...  Municipal  2018   \n",
              "2  Estadística de Finanzas Públicas Estatales y M...  Municipal  2018   \n",
              "3  Estadística de Finanzas Públicas Estatales y M...  Municipal  2018   \n",
              "4  Estadística de Finanzas Públicas Estatales y M...  Municipal  2018   \n",
              "\n",
              "   ID_ENTIDAD  ID_MUNICIPIO     TEMA         CATEGORIA  \\\n",
              "0           1             1  Egresos              Tema   \n",
              "1           1             1  Egresos          Capítulo   \n",
              "2           1             1  Egresos          Concepto   \n",
              "3           1             1  Egresos  Partida Genérica   \n",
              "4           1             1  Egresos          Concepto   \n",
              "\n",
              "                     DESCRIPCION_CATEGORIA       VALOR              ESTATUS  \n",
              "0                         Total de egresos  3649485258  Cifras Definitivas.  \n",
              "1                     Servicios personales  1455455379  Cifras Definitivas.  \n",
              "2               Remuneraciones al personal   442212911  Cifras Definitivas.  \n",
              "3                    Dependencias diversas   442212911  Cifras Definitivas.  \n",
              "4  Remuneraciones adicionales y especiales   427076278  Cifras Definitivas.  "
            ],
            "text/html": [
              "\n",
              "  <div id=\"df-4e93ea28-f4ad-4f86-95af-979856fc4d4f\">\n",
              "    <div class=\"colab-df-container\">\n",
              "      <div>\n",
              "<style scoped>\n",
              "    .dataframe tbody tr th:only-of-type {\n",
              "        vertical-align: middle;\n",
              "    }\n",
              "\n",
              "    .dataframe tbody tr th {\n",
              "        vertical-align: top;\n",
              "    }\n",
              "\n",
              "    .dataframe thead th {\n",
              "        text-align: right;\n",
              "    }\n",
              "</style>\n",
              "<table border=\"1\" class=\"dataframe\">\n",
              "  <thead>\n",
              "    <tr style=\"text-align: right;\">\n",
              "      <th></th>\n",
              "      <th>PROD_EST</th>\n",
              "      <th>COBERTURA</th>\n",
              "      <th>ANIO</th>\n",
              "      <th>ID_ENTIDAD</th>\n",
              "      <th>ID_MUNICIPIO</th>\n",
              "      <th>TEMA</th>\n",
              "      <th>CATEGORIA</th>\n",
              "      <th>DESCRIPCION_CATEGORIA</th>\n",
              "      <th>VALOR</th>\n",
              "      <th>ESTATUS</th>\n",
              "    </tr>\n",
              "  </thead>\n",
              "  <tbody>\n",
              "    <tr>\n",
              "      <th>0</th>\n",
              "      <td>Estadística de Finanzas Públicas Estatales y M...</td>\n",
              "      <td>Municipal</td>\n",
              "      <td>2018</td>\n",
              "      <td>1</td>\n",
              "      <td>1</td>\n",
              "      <td>Egresos</td>\n",
              "      <td>Tema</td>\n",
              "      <td>Total de egresos</td>\n",
              "      <td>3649485258</td>\n",
              "      <td>Cifras Definitivas.</td>\n",
              "    </tr>\n",
              "    <tr>\n",
              "      <th>1</th>\n",
              "      <td>Estadística de Finanzas Públicas Estatales y M...</td>\n",
              "      <td>Municipal</td>\n",
              "      <td>2018</td>\n",
              "      <td>1</td>\n",
              "      <td>1</td>\n",
              "      <td>Egresos</td>\n",
              "      <td>Capítulo</td>\n",
              "      <td>Servicios personales</td>\n",
              "      <td>1455455379</td>\n",
              "      <td>Cifras Definitivas.</td>\n",
              "    </tr>\n",
              "    <tr>\n",
              "      <th>2</th>\n",
              "      <td>Estadística de Finanzas Públicas Estatales y M...</td>\n",
              "      <td>Municipal</td>\n",
              "      <td>2018</td>\n",
              "      <td>1</td>\n",
              "      <td>1</td>\n",
              "      <td>Egresos</td>\n",
              "      <td>Concepto</td>\n",
              "      <td>Remuneraciones al personal</td>\n",
              "      <td>442212911</td>\n",
              "      <td>Cifras Definitivas.</td>\n",
              "    </tr>\n",
              "    <tr>\n",
              "      <th>3</th>\n",
              "      <td>Estadística de Finanzas Públicas Estatales y M...</td>\n",
              "      <td>Municipal</td>\n",
              "      <td>2018</td>\n",
              "      <td>1</td>\n",
              "      <td>1</td>\n",
              "      <td>Egresos</td>\n",
              "      <td>Partida Genérica</td>\n",
              "      <td>Dependencias diversas</td>\n",
              "      <td>442212911</td>\n",
              "      <td>Cifras Definitivas.</td>\n",
              "    </tr>\n",
              "    <tr>\n",
              "      <th>4</th>\n",
              "      <td>Estadística de Finanzas Públicas Estatales y M...</td>\n",
              "      <td>Municipal</td>\n",
              "      <td>2018</td>\n",
              "      <td>1</td>\n",
              "      <td>1</td>\n",
              "      <td>Egresos</td>\n",
              "      <td>Concepto</td>\n",
              "      <td>Remuneraciones adicionales y especiales</td>\n",
              "      <td>427076278</td>\n",
              "      <td>Cifras Definitivas.</td>\n",
              "    </tr>\n",
              "  </tbody>\n",
              "</table>\n",
              "</div>\n",
              "      <button class=\"colab-df-convert\" onclick=\"convertToInteractive('df-4e93ea28-f4ad-4f86-95af-979856fc4d4f')\"\n",
              "              title=\"Convert this dataframe to an interactive table.\"\n",
              "              style=\"display:none;\">\n",
              "        \n",
              "  <svg xmlns=\"http://www.w3.org/2000/svg\" height=\"24px\"viewBox=\"0 0 24 24\"\n",
              "       width=\"24px\">\n",
              "    <path d=\"M0 0h24v24H0V0z\" fill=\"none\"/>\n",
              "    <path d=\"M18.56 5.44l.94 2.06.94-2.06 2.06-.94-2.06-.94-.94-2.06-.94 2.06-2.06.94zm-11 1L8.5 8.5l.94-2.06 2.06-.94-2.06-.94L8.5 2.5l-.94 2.06-2.06.94zm10 10l.94 2.06.94-2.06 2.06-.94-2.06-.94-.94-2.06-.94 2.06-2.06.94z\"/><path d=\"M17.41 7.96l-1.37-1.37c-.4-.4-.92-.59-1.43-.59-.52 0-1.04.2-1.43.59L10.3 9.45l-7.72 7.72c-.78.78-.78 2.05 0 2.83L4 21.41c.39.39.9.59 1.41.59.51 0 1.02-.2 1.41-.59l7.78-7.78 2.81-2.81c.8-.78.8-2.07 0-2.86zM5.41 20L4 18.59l7.72-7.72 1.47 1.35L5.41 20z\"/>\n",
              "  </svg>\n",
              "      </button>\n",
              "      \n",
              "  <style>\n",
              "    .colab-df-container {\n",
              "      display:flex;\n",
              "      flex-wrap:wrap;\n",
              "      gap: 12px;\n",
              "    }\n",
              "\n",
              "    .colab-df-convert {\n",
              "      background-color: #E8F0FE;\n",
              "      border: none;\n",
              "      border-radius: 50%;\n",
              "      cursor: pointer;\n",
              "      display: none;\n",
              "      fill: #1967D2;\n",
              "      height: 32px;\n",
              "      padding: 0 0 0 0;\n",
              "      width: 32px;\n",
              "    }\n",
              "\n",
              "    .colab-df-convert:hover {\n",
              "      background-color: #E2EBFA;\n",
              "      box-shadow: 0px 1px 2px rgba(60, 64, 67, 0.3), 0px 1px 3px 1px rgba(60, 64, 67, 0.15);\n",
              "      fill: #174EA6;\n",
              "    }\n",
              "\n",
              "    [theme=dark] .colab-df-convert {\n",
              "      background-color: #3B4455;\n",
              "      fill: #D2E3FC;\n",
              "    }\n",
              "\n",
              "    [theme=dark] .colab-df-convert:hover {\n",
              "      background-color: #434B5C;\n",
              "      box-shadow: 0px 1px 3px 1px rgba(0, 0, 0, 0.15);\n",
              "      filter: drop-shadow(0px 1px 2px rgba(0, 0, 0, 0.3));\n",
              "      fill: #FFFFFF;\n",
              "    }\n",
              "  </style>\n",
              "\n",
              "      <script>\n",
              "        const buttonEl =\n",
              "          document.querySelector('#df-4e93ea28-f4ad-4f86-95af-979856fc4d4f button.colab-df-convert');\n",
              "        buttonEl.style.display =\n",
              "          google.colab.kernel.accessAllowed ? 'block' : 'none';\n",
              "\n",
              "        async function convertToInteractive(key) {\n",
              "          const element = document.querySelector('#df-4e93ea28-f4ad-4f86-95af-979856fc4d4f');\n",
              "          const dataTable =\n",
              "            await google.colab.kernel.invokeFunction('convertToInteractive',\n",
              "                                                     [key], {});\n",
              "          if (!dataTable) return;\n",
              "\n",
              "          const docLinkHtml = 'Like what you see? Visit the ' +\n",
              "            '<a target=\"_blank\" href=https://colab.research.google.com/notebooks/data_table.ipynb>data table notebook</a>'\n",
              "            + ' to learn more about interactive tables.';\n",
              "          element.innerHTML = '';\n",
              "          dataTable['output_type'] = 'display_data';\n",
              "          await google.colab.output.renderOutput(dataTable, element);\n",
              "          const docLink = document.createElement('div');\n",
              "          docLink.innerHTML = docLinkHtml;\n",
              "          element.appendChild(docLink);\n",
              "        }\n",
              "      </script>\n",
              "    </div>\n",
              "  </div>\n",
              "  "
            ]
          },
          "metadata": {},
          "execution_count": 5
        }
      ]
    },
    {
      "cell_type": "code",
      "source": [
        "# Leemos el diccionario de datos para saber a que se refieren las columnas del dataset\n",
        "dicc_datos = pd.read_csv(\"/content/diccionario_de_datos/diccionario_datos_efipem_municipal_anual_1989_2021.csv\")"
      ],
      "metadata": {
        "id": "eNCr04_9Yfl8"
      },
      "execution_count": null,
      "outputs": []
    },
    {
      "cell_type": "code",
      "source": [
        "dicc_datos"
      ],
      "metadata": {
        "colab": {
          "base_uri": "https://localhost:8080/",
          "height": 363
        },
        "id": "aW-s7eglZCFs",
        "outputId": "d1c4edcb-98ed-45ea-9c00-9af75c32d4c4"
      },
      "execution_count": null,
      "outputs": [
        {
          "output_type": "execute_result",
          "data": {
            "text/plain": [
              "                                         PRODUCTO_DD                COLUMNA  \\\n",
              "0  Estadística de Finanzas Públicas Estatales y M...               PROD_EST   \n",
              "1  Estadística de Finanzas Públicas Estatales y M...              COBERTURA   \n",
              "2  Estadística de Finanzas Públicas Estatales y M...                   ANIO   \n",
              "3  Estadística de Finanzas Públicas Estatales y M...             ID_ENTIDAD   \n",
              "4  Estadística de Finanzas Públicas Estatales y M...           ID_MUNICIPIO   \n",
              "5  Estadística de Finanzas Públicas Estatales y M...                   TEMA   \n",
              "6  Estadística de Finanzas Públicas Estatales y M...              CATEGORIA   \n",
              "7  Estadística de Finanzas Públicas Estatales y M...  DESCRIPCION_CATEGORIA   \n",
              "8  Estadística de Finanzas Públicas Estatales y M...                  VALOR   \n",
              "9  Estadística de Finanzas Públicas Estatales y M...                ESTATUS   \n",
              "\n",
              "                                         DESCRIPCION TIPO_DATO LONGITUD  \\\n",
              "0  Nombre del proyecto estadístico al que pertene...   varchar      max   \n",
              "1  Área geográfica a la que están referidos los i...   varchar      max   \n",
              "2               Año de referencia de la información.       int      NaN   \n",
              "3  Clave de la entidad según Catálogo de Entidade...   varchar        2   \n",
              "4  Clave del municipios según Catálogo de Entidad...   varchar        3   \n",
              "5  Categoría correspondiente al mayor nivel de ag...   varchar      max   \n",
              "6  Nivel de desglose conceptual según Catálogo de...   varchar      max   \n",
              "7  Descripción del concepto financiero según Catá...   varchar      max   \n",
              "8    Valor en pesos correspondiente a cada categoría       int      NaN   \n",
              "9  Estatus de las cifras conforme a los Lineamien...   varchar      max   \n",
              "\n",
              "   COD_VALIDO  \n",
              "0         NaN  \n",
              "1         NaN  \n",
              "2   1989-2021  \n",
              "3       00-32  \n",
              "4     000-999  \n",
              "5         NaN  \n",
              "6         NaN  \n",
              "7         NaN  \n",
              "8  0-99999999  \n",
              "9         NaN  "
            ],
            "text/html": [
              "\n",
              "  <div id=\"df-f3aa6f77-6057-44e1-b110-80768bb56e59\">\n",
              "    <div class=\"colab-df-container\">\n",
              "      <div>\n",
              "<style scoped>\n",
              "    .dataframe tbody tr th:only-of-type {\n",
              "        vertical-align: middle;\n",
              "    }\n",
              "\n",
              "    .dataframe tbody tr th {\n",
              "        vertical-align: top;\n",
              "    }\n",
              "\n",
              "    .dataframe thead th {\n",
              "        text-align: right;\n",
              "    }\n",
              "</style>\n",
              "<table border=\"1\" class=\"dataframe\">\n",
              "  <thead>\n",
              "    <tr style=\"text-align: right;\">\n",
              "      <th></th>\n",
              "      <th>PRODUCTO_DD</th>\n",
              "      <th>COLUMNA</th>\n",
              "      <th>DESCRIPCION</th>\n",
              "      <th>TIPO_DATO</th>\n",
              "      <th>LONGITUD</th>\n",
              "      <th>COD_VALIDO</th>\n",
              "    </tr>\n",
              "  </thead>\n",
              "  <tbody>\n",
              "    <tr>\n",
              "      <th>0</th>\n",
              "      <td>Estadística de Finanzas Públicas Estatales y M...</td>\n",
              "      <td>PROD_EST</td>\n",
              "      <td>Nombre del proyecto estadístico al que pertene...</td>\n",
              "      <td>varchar</td>\n",
              "      <td>max</td>\n",
              "      <td>NaN</td>\n",
              "    </tr>\n",
              "    <tr>\n",
              "      <th>1</th>\n",
              "      <td>Estadística de Finanzas Públicas Estatales y M...</td>\n",
              "      <td>COBERTURA</td>\n",
              "      <td>Área geográfica a la que están referidos los i...</td>\n",
              "      <td>varchar</td>\n",
              "      <td>max</td>\n",
              "      <td>NaN</td>\n",
              "    </tr>\n",
              "    <tr>\n",
              "      <th>2</th>\n",
              "      <td>Estadística de Finanzas Públicas Estatales y M...</td>\n",
              "      <td>ANIO</td>\n",
              "      <td>Año de referencia de la información.</td>\n",
              "      <td>int</td>\n",
              "      <td>NaN</td>\n",
              "      <td>1989-2021</td>\n",
              "    </tr>\n",
              "    <tr>\n",
              "      <th>3</th>\n",
              "      <td>Estadística de Finanzas Públicas Estatales y M...</td>\n",
              "      <td>ID_ENTIDAD</td>\n",
              "      <td>Clave de la entidad según Catálogo de Entidade...</td>\n",
              "      <td>varchar</td>\n",
              "      <td>2</td>\n",
              "      <td>00-32</td>\n",
              "    </tr>\n",
              "    <tr>\n",
              "      <th>4</th>\n",
              "      <td>Estadística de Finanzas Públicas Estatales y M...</td>\n",
              "      <td>ID_MUNICIPIO</td>\n",
              "      <td>Clave del municipios según Catálogo de Entidad...</td>\n",
              "      <td>varchar</td>\n",
              "      <td>3</td>\n",
              "      <td>000-999</td>\n",
              "    </tr>\n",
              "    <tr>\n",
              "      <th>5</th>\n",
              "      <td>Estadística de Finanzas Públicas Estatales y M...</td>\n",
              "      <td>TEMA</td>\n",
              "      <td>Categoría correspondiente al mayor nivel de ag...</td>\n",
              "      <td>varchar</td>\n",
              "      <td>max</td>\n",
              "      <td>NaN</td>\n",
              "    </tr>\n",
              "    <tr>\n",
              "      <th>6</th>\n",
              "      <td>Estadística de Finanzas Públicas Estatales y M...</td>\n",
              "      <td>CATEGORIA</td>\n",
              "      <td>Nivel de desglose conceptual según Catálogo de...</td>\n",
              "      <td>varchar</td>\n",
              "      <td>max</td>\n",
              "      <td>NaN</td>\n",
              "    </tr>\n",
              "    <tr>\n",
              "      <th>7</th>\n",
              "      <td>Estadística de Finanzas Públicas Estatales y M...</td>\n",
              "      <td>DESCRIPCION_CATEGORIA</td>\n",
              "      <td>Descripción del concepto financiero según Catá...</td>\n",
              "      <td>varchar</td>\n",
              "      <td>max</td>\n",
              "      <td>NaN</td>\n",
              "    </tr>\n",
              "    <tr>\n",
              "      <th>8</th>\n",
              "      <td>Estadística de Finanzas Públicas Estatales y M...</td>\n",
              "      <td>VALOR</td>\n",
              "      <td>Valor en pesos correspondiente a cada categoría</td>\n",
              "      <td>int</td>\n",
              "      <td>NaN</td>\n",
              "      <td>0-99999999</td>\n",
              "    </tr>\n",
              "    <tr>\n",
              "      <th>9</th>\n",
              "      <td>Estadística de Finanzas Públicas Estatales y M...</td>\n",
              "      <td>ESTATUS</td>\n",
              "      <td>Estatus de las cifras conforme a los Lineamien...</td>\n",
              "      <td>varchar</td>\n",
              "      <td>max</td>\n",
              "      <td>NaN</td>\n",
              "    </tr>\n",
              "  </tbody>\n",
              "</table>\n",
              "</div>\n",
              "      <button class=\"colab-df-convert\" onclick=\"convertToInteractive('df-f3aa6f77-6057-44e1-b110-80768bb56e59')\"\n",
              "              title=\"Convert this dataframe to an interactive table.\"\n",
              "              style=\"display:none;\">\n",
              "        \n",
              "  <svg xmlns=\"http://www.w3.org/2000/svg\" height=\"24px\"viewBox=\"0 0 24 24\"\n",
              "       width=\"24px\">\n",
              "    <path d=\"M0 0h24v24H0V0z\" fill=\"none\"/>\n",
              "    <path d=\"M18.56 5.44l.94 2.06.94-2.06 2.06-.94-2.06-.94-.94-2.06-.94 2.06-2.06.94zm-11 1L8.5 8.5l.94-2.06 2.06-.94-2.06-.94L8.5 2.5l-.94 2.06-2.06.94zm10 10l.94 2.06.94-2.06 2.06-.94-2.06-.94-.94-2.06-.94 2.06-2.06.94z\"/><path d=\"M17.41 7.96l-1.37-1.37c-.4-.4-.92-.59-1.43-.59-.52 0-1.04.2-1.43.59L10.3 9.45l-7.72 7.72c-.78.78-.78 2.05 0 2.83L4 21.41c.39.39.9.59 1.41.59.51 0 1.02-.2 1.41-.59l7.78-7.78 2.81-2.81c.8-.78.8-2.07 0-2.86zM5.41 20L4 18.59l7.72-7.72 1.47 1.35L5.41 20z\"/>\n",
              "  </svg>\n",
              "      </button>\n",
              "      \n",
              "  <style>\n",
              "    .colab-df-container {\n",
              "      display:flex;\n",
              "      flex-wrap:wrap;\n",
              "      gap: 12px;\n",
              "    }\n",
              "\n",
              "    .colab-df-convert {\n",
              "      background-color: #E8F0FE;\n",
              "      border: none;\n",
              "      border-radius: 50%;\n",
              "      cursor: pointer;\n",
              "      display: none;\n",
              "      fill: #1967D2;\n",
              "      height: 32px;\n",
              "      padding: 0 0 0 0;\n",
              "      width: 32px;\n",
              "    }\n",
              "\n",
              "    .colab-df-convert:hover {\n",
              "      background-color: #E2EBFA;\n",
              "      box-shadow: 0px 1px 2px rgba(60, 64, 67, 0.3), 0px 1px 3px 1px rgba(60, 64, 67, 0.15);\n",
              "      fill: #174EA6;\n",
              "    }\n",
              "\n",
              "    [theme=dark] .colab-df-convert {\n",
              "      background-color: #3B4455;\n",
              "      fill: #D2E3FC;\n",
              "    }\n",
              "\n",
              "    [theme=dark] .colab-df-convert:hover {\n",
              "      background-color: #434B5C;\n",
              "      box-shadow: 0px 1px 3px 1px rgba(0, 0, 0, 0.15);\n",
              "      filter: drop-shadow(0px 1px 2px rgba(0, 0, 0, 0.3));\n",
              "      fill: #FFFFFF;\n",
              "    }\n",
              "  </style>\n",
              "\n",
              "      <script>\n",
              "        const buttonEl =\n",
              "          document.querySelector('#df-f3aa6f77-6057-44e1-b110-80768bb56e59 button.colab-df-convert');\n",
              "        buttonEl.style.display =\n",
              "          google.colab.kernel.accessAllowed ? 'block' : 'none';\n",
              "\n",
              "        async function convertToInteractive(key) {\n",
              "          const element = document.querySelector('#df-f3aa6f77-6057-44e1-b110-80768bb56e59');\n",
              "          const dataTable =\n",
              "            await google.colab.kernel.invokeFunction('convertToInteractive',\n",
              "                                                     [key], {});\n",
              "          if (!dataTable) return;\n",
              "\n",
              "          const docLinkHtml = 'Like what you see? Visit the ' +\n",
              "            '<a target=\"_blank\" href=https://colab.research.google.com/notebooks/data_table.ipynb>data table notebook</a>'\n",
              "            + ' to learn more about interactive tables.';\n",
              "          element.innerHTML = '';\n",
              "          dataTable['output_type'] = 'display_data';\n",
              "          await google.colab.output.renderOutput(dataTable, element);\n",
              "          const docLink = document.createElement('div');\n",
              "          docLink.innerHTML = docLinkHtml;\n",
              "          element.appendChild(docLink);\n",
              "        }\n",
              "      </script>\n",
              "    </div>\n",
              "  </div>\n",
              "  "
            ]
          },
          "metadata": {},
          "execution_count": 7
        }
      ]
    },
    {
      "cell_type": "code",
      "source": [
        "# Leemos el catálogo de municipios para conocer el id de Entidad y Municipio que requerimos\n",
        "# para acceder a la inforamción\n",
        "catal_munic = pd.read_csv(\"/content/catalogos/tc_municipio.csv\")"
      ],
      "metadata": {
        "id": "NNKgg0vBZEsf"
      },
      "execution_count": null,
      "outputs": []
    },
    {
      "cell_type": "code",
      "source": [
        "catal_munic.head()"
      ],
      "metadata": {
        "colab": {
          "base_uri": "https://localhost:8080/",
          "height": 206
        },
        "id": "z9CHdMQ7TA_N",
        "outputId": "1e9ce974-a7b5-44fb-856d-361ee7e69d5c"
      },
      "execution_count": null,
      "outputs": [
        {
          "output_type": "execute_result",
          "data": {
            "text/plain": [
              "   ID_ENTIDAD  ID_MUNICIPIO         NOM_MUN\n",
              "0           1             1  Aguascalientes\n",
              "1           1             2        Asientos\n",
              "2           1             3        Calvillo\n",
              "3           1             4           Cosío\n",
              "4           1             5     Jesús María"
            ],
            "text/html": [
              "\n",
              "  <div id=\"df-4f4d2be1-18af-4405-b5ae-2e7d62b6e942\">\n",
              "    <div class=\"colab-df-container\">\n",
              "      <div>\n",
              "<style scoped>\n",
              "    .dataframe tbody tr th:only-of-type {\n",
              "        vertical-align: middle;\n",
              "    }\n",
              "\n",
              "    .dataframe tbody tr th {\n",
              "        vertical-align: top;\n",
              "    }\n",
              "\n",
              "    .dataframe thead th {\n",
              "        text-align: right;\n",
              "    }\n",
              "</style>\n",
              "<table border=\"1\" class=\"dataframe\">\n",
              "  <thead>\n",
              "    <tr style=\"text-align: right;\">\n",
              "      <th></th>\n",
              "      <th>ID_ENTIDAD</th>\n",
              "      <th>ID_MUNICIPIO</th>\n",
              "      <th>NOM_MUN</th>\n",
              "    </tr>\n",
              "  </thead>\n",
              "  <tbody>\n",
              "    <tr>\n",
              "      <th>0</th>\n",
              "      <td>1</td>\n",
              "      <td>1</td>\n",
              "      <td>Aguascalientes</td>\n",
              "    </tr>\n",
              "    <tr>\n",
              "      <th>1</th>\n",
              "      <td>1</td>\n",
              "      <td>2</td>\n",
              "      <td>Asientos</td>\n",
              "    </tr>\n",
              "    <tr>\n",
              "      <th>2</th>\n",
              "      <td>1</td>\n",
              "      <td>3</td>\n",
              "      <td>Calvillo</td>\n",
              "    </tr>\n",
              "    <tr>\n",
              "      <th>3</th>\n",
              "      <td>1</td>\n",
              "      <td>4</td>\n",
              "      <td>Cosío</td>\n",
              "    </tr>\n",
              "    <tr>\n",
              "      <th>4</th>\n",
              "      <td>1</td>\n",
              "      <td>5</td>\n",
              "      <td>Jesús María</td>\n",
              "    </tr>\n",
              "  </tbody>\n",
              "</table>\n",
              "</div>\n",
              "      <button class=\"colab-df-convert\" onclick=\"convertToInteractive('df-4f4d2be1-18af-4405-b5ae-2e7d62b6e942')\"\n",
              "              title=\"Convert this dataframe to an interactive table.\"\n",
              "              style=\"display:none;\">\n",
              "        \n",
              "  <svg xmlns=\"http://www.w3.org/2000/svg\" height=\"24px\"viewBox=\"0 0 24 24\"\n",
              "       width=\"24px\">\n",
              "    <path d=\"M0 0h24v24H0V0z\" fill=\"none\"/>\n",
              "    <path d=\"M18.56 5.44l.94 2.06.94-2.06 2.06-.94-2.06-.94-.94-2.06-.94 2.06-2.06.94zm-11 1L8.5 8.5l.94-2.06 2.06-.94-2.06-.94L8.5 2.5l-.94 2.06-2.06.94zm10 10l.94 2.06.94-2.06 2.06-.94-2.06-.94-.94-2.06-.94 2.06-2.06.94z\"/><path d=\"M17.41 7.96l-1.37-1.37c-.4-.4-.92-.59-1.43-.59-.52 0-1.04.2-1.43.59L10.3 9.45l-7.72 7.72c-.78.78-.78 2.05 0 2.83L4 21.41c.39.39.9.59 1.41.59.51 0 1.02-.2 1.41-.59l7.78-7.78 2.81-2.81c.8-.78.8-2.07 0-2.86zM5.41 20L4 18.59l7.72-7.72 1.47 1.35L5.41 20z\"/>\n",
              "  </svg>\n",
              "      </button>\n",
              "      \n",
              "  <style>\n",
              "    .colab-df-container {\n",
              "      display:flex;\n",
              "      flex-wrap:wrap;\n",
              "      gap: 12px;\n",
              "    }\n",
              "\n",
              "    .colab-df-convert {\n",
              "      background-color: #E8F0FE;\n",
              "      border: none;\n",
              "      border-radius: 50%;\n",
              "      cursor: pointer;\n",
              "      display: none;\n",
              "      fill: #1967D2;\n",
              "      height: 32px;\n",
              "      padding: 0 0 0 0;\n",
              "      width: 32px;\n",
              "    }\n",
              "\n",
              "    .colab-df-convert:hover {\n",
              "      background-color: #E2EBFA;\n",
              "      box-shadow: 0px 1px 2px rgba(60, 64, 67, 0.3), 0px 1px 3px 1px rgba(60, 64, 67, 0.15);\n",
              "      fill: #174EA6;\n",
              "    }\n",
              "\n",
              "    [theme=dark] .colab-df-convert {\n",
              "      background-color: #3B4455;\n",
              "      fill: #D2E3FC;\n",
              "    }\n",
              "\n",
              "    [theme=dark] .colab-df-convert:hover {\n",
              "      background-color: #434B5C;\n",
              "      box-shadow: 0px 1px 3px 1px rgba(0, 0, 0, 0.15);\n",
              "      filter: drop-shadow(0px 1px 2px rgba(0, 0, 0, 0.3));\n",
              "      fill: #FFFFFF;\n",
              "    }\n",
              "  </style>\n",
              "\n",
              "      <script>\n",
              "        const buttonEl =\n",
              "          document.querySelector('#df-4f4d2be1-18af-4405-b5ae-2e7d62b6e942 button.colab-df-convert');\n",
              "        buttonEl.style.display =\n",
              "          google.colab.kernel.accessAllowed ? 'block' : 'none';\n",
              "\n",
              "        async function convertToInteractive(key) {\n",
              "          const element = document.querySelector('#df-4f4d2be1-18af-4405-b5ae-2e7d62b6e942');\n",
              "          const dataTable =\n",
              "            await google.colab.kernel.invokeFunction('convertToInteractive',\n",
              "                                                     [key], {});\n",
              "          if (!dataTable) return;\n",
              "\n",
              "          const docLinkHtml = 'Like what you see? Visit the ' +\n",
              "            '<a target=\"_blank\" href=https://colab.research.google.com/notebooks/data_table.ipynb>data table notebook</a>'\n",
              "            + ' to learn more about interactive tables.';\n",
              "          element.innerHTML = '';\n",
              "          dataTable['output_type'] = 'display_data';\n",
              "          await google.colab.output.renderOutput(dataTable, element);\n",
              "          const docLink = document.createElement('div');\n",
              "          docLink.innerHTML = docLinkHtml;\n",
              "          element.appendChild(docLink);\n",
              "        }\n",
              "      </script>\n",
              "    </div>\n",
              "  </div>\n",
              "  "
            ]
          },
          "metadata": {},
          "execution_count": 9
        }
      ]
    },
    {
      "cell_type": "code",
      "source": [
        "# Consultamos el catálogo de municipios para saber el id de ciudad y entidad.\n",
        "catal_munic[catal_munic[\"NOM_MUN\"] == \"Navojoa\"]"
      ],
      "metadata": {
        "colab": {
          "base_uri": "https://localhost:8080/",
          "height": 81
        },
        "id": "alDD_CjnaymN",
        "outputId": "f1cb3395-bcd0-4a81-9294-1ca706a0e959"
      },
      "execution_count": null,
      "outputs": [
        {
          "output_type": "execute_result",
          "data": {
            "text/plain": [
              "      ID_ENTIDAD  ID_MUNICIPIO  NOM_MUN\n",
              "1927          26            42  Navojoa"
            ],
            "text/html": [
              "\n",
              "  <div id=\"df-cfab9f83-8fd3-4ab1-a8ad-db96e67a96f2\">\n",
              "    <div class=\"colab-df-container\">\n",
              "      <div>\n",
              "<style scoped>\n",
              "    .dataframe tbody tr th:only-of-type {\n",
              "        vertical-align: middle;\n",
              "    }\n",
              "\n",
              "    .dataframe tbody tr th {\n",
              "        vertical-align: top;\n",
              "    }\n",
              "\n",
              "    .dataframe thead th {\n",
              "        text-align: right;\n",
              "    }\n",
              "</style>\n",
              "<table border=\"1\" class=\"dataframe\">\n",
              "  <thead>\n",
              "    <tr style=\"text-align: right;\">\n",
              "      <th></th>\n",
              "      <th>ID_ENTIDAD</th>\n",
              "      <th>ID_MUNICIPIO</th>\n",
              "      <th>NOM_MUN</th>\n",
              "    </tr>\n",
              "  </thead>\n",
              "  <tbody>\n",
              "    <tr>\n",
              "      <th>1927</th>\n",
              "      <td>26</td>\n",
              "      <td>42</td>\n",
              "      <td>Navojoa</td>\n",
              "    </tr>\n",
              "  </tbody>\n",
              "</table>\n",
              "</div>\n",
              "      <button class=\"colab-df-convert\" onclick=\"convertToInteractive('df-cfab9f83-8fd3-4ab1-a8ad-db96e67a96f2')\"\n",
              "              title=\"Convert this dataframe to an interactive table.\"\n",
              "              style=\"display:none;\">\n",
              "        \n",
              "  <svg xmlns=\"http://www.w3.org/2000/svg\" height=\"24px\"viewBox=\"0 0 24 24\"\n",
              "       width=\"24px\">\n",
              "    <path d=\"M0 0h24v24H0V0z\" fill=\"none\"/>\n",
              "    <path d=\"M18.56 5.44l.94 2.06.94-2.06 2.06-.94-2.06-.94-.94-2.06-.94 2.06-2.06.94zm-11 1L8.5 8.5l.94-2.06 2.06-.94-2.06-.94L8.5 2.5l-.94 2.06-2.06.94zm10 10l.94 2.06.94-2.06 2.06-.94-2.06-.94-.94-2.06-.94 2.06-2.06.94z\"/><path d=\"M17.41 7.96l-1.37-1.37c-.4-.4-.92-.59-1.43-.59-.52 0-1.04.2-1.43.59L10.3 9.45l-7.72 7.72c-.78.78-.78 2.05 0 2.83L4 21.41c.39.39.9.59 1.41.59.51 0 1.02-.2 1.41-.59l7.78-7.78 2.81-2.81c.8-.78.8-2.07 0-2.86zM5.41 20L4 18.59l7.72-7.72 1.47 1.35L5.41 20z\"/>\n",
              "  </svg>\n",
              "      </button>\n",
              "      \n",
              "  <style>\n",
              "    .colab-df-container {\n",
              "      display:flex;\n",
              "      flex-wrap:wrap;\n",
              "      gap: 12px;\n",
              "    }\n",
              "\n",
              "    .colab-df-convert {\n",
              "      background-color: #E8F0FE;\n",
              "      border: none;\n",
              "      border-radius: 50%;\n",
              "      cursor: pointer;\n",
              "      display: none;\n",
              "      fill: #1967D2;\n",
              "      height: 32px;\n",
              "      padding: 0 0 0 0;\n",
              "      width: 32px;\n",
              "    }\n",
              "\n",
              "    .colab-df-convert:hover {\n",
              "      background-color: #E2EBFA;\n",
              "      box-shadow: 0px 1px 2px rgba(60, 64, 67, 0.3), 0px 1px 3px 1px rgba(60, 64, 67, 0.15);\n",
              "      fill: #174EA6;\n",
              "    }\n",
              "\n",
              "    [theme=dark] .colab-df-convert {\n",
              "      background-color: #3B4455;\n",
              "      fill: #D2E3FC;\n",
              "    }\n",
              "\n",
              "    [theme=dark] .colab-df-convert:hover {\n",
              "      background-color: #434B5C;\n",
              "      box-shadow: 0px 1px 3px 1px rgba(0, 0, 0, 0.15);\n",
              "      filter: drop-shadow(0px 1px 2px rgba(0, 0, 0, 0.3));\n",
              "      fill: #FFFFFF;\n",
              "    }\n",
              "  </style>\n",
              "\n",
              "      <script>\n",
              "        const buttonEl =\n",
              "          document.querySelector('#df-cfab9f83-8fd3-4ab1-a8ad-db96e67a96f2 button.colab-df-convert');\n",
              "        buttonEl.style.display =\n",
              "          google.colab.kernel.accessAllowed ? 'block' : 'none';\n",
              "\n",
              "        async function convertToInteractive(key) {\n",
              "          const element = document.querySelector('#df-cfab9f83-8fd3-4ab1-a8ad-db96e67a96f2');\n",
              "          const dataTable =\n",
              "            await google.colab.kernel.invokeFunction('convertToInteractive',\n",
              "                                                     [key], {});\n",
              "          if (!dataTable) return;\n",
              "\n",
              "          const docLinkHtml = 'Like what you see? Visit the ' +\n",
              "            '<a target=\"_blank\" href=https://colab.research.google.com/notebooks/data_table.ipynb>data table notebook</a>'\n",
              "            + ' to learn more about interactive tables.';\n",
              "          element.innerHTML = '';\n",
              "          dataTable['output_type'] = 'display_data';\n",
              "          await google.colab.output.renderOutput(dataTable, element);\n",
              "          const docLink = document.createElement('div');\n",
              "          docLink.innerHTML = docLinkHtml;\n",
              "          element.appendChild(docLink);\n",
              "        }\n",
              "      </script>\n",
              "    </div>\n",
              "  </div>\n",
              "  "
            ]
          },
          "metadata": {},
          "execution_count": 10
        }
      ]
    },
    {
      "cell_type": "code",
      "source": [
        "# Obtenemos el subset de datos que corresponde al municipio de Navojoa\n",
        "nav2018 = datos[(datos[\"ID_MUNICIPIO\"] == 42) & (datos[\"ID_ENTIDAD\"] == 26)]"
      ],
      "metadata": {
        "id": "AYJyOtXPnbxW"
      },
      "execution_count": null,
      "outputs": []
    },
    {
      "cell_type": "code",
      "source": [
        "nav2018.head()"
      ],
      "metadata": {
        "colab": {
          "base_uri": "https://localhost:8080/",
          "height": 337
        },
        "id": "EnRETSS6nQ8N",
        "outputId": "92bf5af8-3d63-4267-83a1-bf92438a42f2"
      },
      "execution_count": null,
      "outputs": [
        {
          "output_type": "execute_result",
          "data": {
            "text/plain": [
              "                                                 PROD_EST  COBERTURA  ANIO  \\\n",
              "205994  Estadística de Finanzas Públicas Estatales y M...  Municipal  2018   \n",
              "205995  Estadística de Finanzas Públicas Estatales y M...  Municipal  2018   \n",
              "205996  Estadística de Finanzas Públicas Estatales y M...  Municipal  2018   \n",
              "205997  Estadística de Finanzas Públicas Estatales y M...  Municipal  2018   \n",
              "205998  Estadística de Finanzas Públicas Estatales y M...  Municipal  2018   \n",
              "\n",
              "        ID_ENTIDAD  ID_MUNICIPIO     TEMA         CATEGORIA  \\\n",
              "205994          26            42  Egresos              Tema   \n",
              "205995          26            42  Egresos          Capítulo   \n",
              "205996          26            42  Egresos          Concepto   \n",
              "205997          26            42  Egresos  Partida Genérica   \n",
              "205998          26            42  Egresos          Concepto   \n",
              "\n",
              "                          DESCRIPCION_CATEGORIA      VALOR  \\\n",
              "205994                         Total de egresos  623001575   \n",
              "205995                     Servicios personales  218072744   \n",
              "205996               Remuneraciones al personal  110587656   \n",
              "205997                    Dependencias diversas  110587656   \n",
              "205998  Remuneraciones adicionales y especiales   44824601   \n",
              "\n",
              "                    ESTATUS  \n",
              "205994  Cifras Definitivas.  \n",
              "205995  Cifras Definitivas.  \n",
              "205996  Cifras Definitivas.  \n",
              "205997  Cifras Definitivas.  \n",
              "205998  Cifras Definitivas.  "
            ],
            "text/html": [
              "\n",
              "  <div id=\"df-f3636af7-f069-43a2-ac8a-6c846341ab29\">\n",
              "    <div class=\"colab-df-container\">\n",
              "      <div>\n",
              "<style scoped>\n",
              "    .dataframe tbody tr th:only-of-type {\n",
              "        vertical-align: middle;\n",
              "    }\n",
              "\n",
              "    .dataframe tbody tr th {\n",
              "        vertical-align: top;\n",
              "    }\n",
              "\n",
              "    .dataframe thead th {\n",
              "        text-align: right;\n",
              "    }\n",
              "</style>\n",
              "<table border=\"1\" class=\"dataframe\">\n",
              "  <thead>\n",
              "    <tr style=\"text-align: right;\">\n",
              "      <th></th>\n",
              "      <th>PROD_EST</th>\n",
              "      <th>COBERTURA</th>\n",
              "      <th>ANIO</th>\n",
              "      <th>ID_ENTIDAD</th>\n",
              "      <th>ID_MUNICIPIO</th>\n",
              "      <th>TEMA</th>\n",
              "      <th>CATEGORIA</th>\n",
              "      <th>DESCRIPCION_CATEGORIA</th>\n",
              "      <th>VALOR</th>\n",
              "      <th>ESTATUS</th>\n",
              "    </tr>\n",
              "  </thead>\n",
              "  <tbody>\n",
              "    <tr>\n",
              "      <th>205994</th>\n",
              "      <td>Estadística de Finanzas Públicas Estatales y M...</td>\n",
              "      <td>Municipal</td>\n",
              "      <td>2018</td>\n",
              "      <td>26</td>\n",
              "      <td>42</td>\n",
              "      <td>Egresos</td>\n",
              "      <td>Tema</td>\n",
              "      <td>Total de egresos</td>\n",
              "      <td>623001575</td>\n",
              "      <td>Cifras Definitivas.</td>\n",
              "    </tr>\n",
              "    <tr>\n",
              "      <th>205995</th>\n",
              "      <td>Estadística de Finanzas Públicas Estatales y M...</td>\n",
              "      <td>Municipal</td>\n",
              "      <td>2018</td>\n",
              "      <td>26</td>\n",
              "      <td>42</td>\n",
              "      <td>Egresos</td>\n",
              "      <td>Capítulo</td>\n",
              "      <td>Servicios personales</td>\n",
              "      <td>218072744</td>\n",
              "      <td>Cifras Definitivas.</td>\n",
              "    </tr>\n",
              "    <tr>\n",
              "      <th>205996</th>\n",
              "      <td>Estadística de Finanzas Públicas Estatales y M...</td>\n",
              "      <td>Municipal</td>\n",
              "      <td>2018</td>\n",
              "      <td>26</td>\n",
              "      <td>42</td>\n",
              "      <td>Egresos</td>\n",
              "      <td>Concepto</td>\n",
              "      <td>Remuneraciones al personal</td>\n",
              "      <td>110587656</td>\n",
              "      <td>Cifras Definitivas.</td>\n",
              "    </tr>\n",
              "    <tr>\n",
              "      <th>205997</th>\n",
              "      <td>Estadística de Finanzas Públicas Estatales y M...</td>\n",
              "      <td>Municipal</td>\n",
              "      <td>2018</td>\n",
              "      <td>26</td>\n",
              "      <td>42</td>\n",
              "      <td>Egresos</td>\n",
              "      <td>Partida Genérica</td>\n",
              "      <td>Dependencias diversas</td>\n",
              "      <td>110587656</td>\n",
              "      <td>Cifras Definitivas.</td>\n",
              "    </tr>\n",
              "    <tr>\n",
              "      <th>205998</th>\n",
              "      <td>Estadística de Finanzas Públicas Estatales y M...</td>\n",
              "      <td>Municipal</td>\n",
              "      <td>2018</td>\n",
              "      <td>26</td>\n",
              "      <td>42</td>\n",
              "      <td>Egresos</td>\n",
              "      <td>Concepto</td>\n",
              "      <td>Remuneraciones adicionales y especiales</td>\n",
              "      <td>44824601</td>\n",
              "      <td>Cifras Definitivas.</td>\n",
              "    </tr>\n",
              "  </tbody>\n",
              "</table>\n",
              "</div>\n",
              "      <button class=\"colab-df-convert\" onclick=\"convertToInteractive('df-f3636af7-f069-43a2-ac8a-6c846341ab29')\"\n",
              "              title=\"Convert this dataframe to an interactive table.\"\n",
              "              style=\"display:none;\">\n",
              "        \n",
              "  <svg xmlns=\"http://www.w3.org/2000/svg\" height=\"24px\"viewBox=\"0 0 24 24\"\n",
              "       width=\"24px\">\n",
              "    <path d=\"M0 0h24v24H0V0z\" fill=\"none\"/>\n",
              "    <path d=\"M18.56 5.44l.94 2.06.94-2.06 2.06-.94-2.06-.94-.94-2.06-.94 2.06-2.06.94zm-11 1L8.5 8.5l.94-2.06 2.06-.94-2.06-.94L8.5 2.5l-.94 2.06-2.06.94zm10 10l.94 2.06.94-2.06 2.06-.94-2.06-.94-.94-2.06-.94 2.06-2.06.94z\"/><path d=\"M17.41 7.96l-1.37-1.37c-.4-.4-.92-.59-1.43-.59-.52 0-1.04.2-1.43.59L10.3 9.45l-7.72 7.72c-.78.78-.78 2.05 0 2.83L4 21.41c.39.39.9.59 1.41.59.51 0 1.02-.2 1.41-.59l7.78-7.78 2.81-2.81c.8-.78.8-2.07 0-2.86zM5.41 20L4 18.59l7.72-7.72 1.47 1.35L5.41 20z\"/>\n",
              "  </svg>\n",
              "      </button>\n",
              "      \n",
              "  <style>\n",
              "    .colab-df-container {\n",
              "      display:flex;\n",
              "      flex-wrap:wrap;\n",
              "      gap: 12px;\n",
              "    }\n",
              "\n",
              "    .colab-df-convert {\n",
              "      background-color: #E8F0FE;\n",
              "      border: none;\n",
              "      border-radius: 50%;\n",
              "      cursor: pointer;\n",
              "      display: none;\n",
              "      fill: #1967D2;\n",
              "      height: 32px;\n",
              "      padding: 0 0 0 0;\n",
              "      width: 32px;\n",
              "    }\n",
              "\n",
              "    .colab-df-convert:hover {\n",
              "      background-color: #E2EBFA;\n",
              "      box-shadow: 0px 1px 2px rgba(60, 64, 67, 0.3), 0px 1px 3px 1px rgba(60, 64, 67, 0.15);\n",
              "      fill: #174EA6;\n",
              "    }\n",
              "\n",
              "    [theme=dark] .colab-df-convert {\n",
              "      background-color: #3B4455;\n",
              "      fill: #D2E3FC;\n",
              "    }\n",
              "\n",
              "    [theme=dark] .colab-df-convert:hover {\n",
              "      background-color: #434B5C;\n",
              "      box-shadow: 0px 1px 3px 1px rgba(0, 0, 0, 0.15);\n",
              "      filter: drop-shadow(0px 1px 2px rgba(0, 0, 0, 0.3));\n",
              "      fill: #FFFFFF;\n",
              "    }\n",
              "  </style>\n",
              "\n",
              "      <script>\n",
              "        const buttonEl =\n",
              "          document.querySelector('#df-f3636af7-f069-43a2-ac8a-6c846341ab29 button.colab-df-convert');\n",
              "        buttonEl.style.display =\n",
              "          google.colab.kernel.accessAllowed ? 'block' : 'none';\n",
              "\n",
              "        async function convertToInteractive(key) {\n",
              "          const element = document.querySelector('#df-f3636af7-f069-43a2-ac8a-6c846341ab29');\n",
              "          const dataTable =\n",
              "            await google.colab.kernel.invokeFunction('convertToInteractive',\n",
              "                                                     [key], {});\n",
              "          if (!dataTable) return;\n",
              "\n",
              "          const docLinkHtml = 'Like what you see? Visit the ' +\n",
              "            '<a target=\"_blank\" href=https://colab.research.google.com/notebooks/data_table.ipynb>data table notebook</a>'\n",
              "            + ' to learn more about interactive tables.';\n",
              "          element.innerHTML = '';\n",
              "          dataTable['output_type'] = 'display_data';\n",
              "          await google.colab.output.renderOutput(dataTable, element);\n",
              "          const docLink = document.createElement('div');\n",
              "          docLink.innerHTML = docLinkHtml;\n",
              "          element.appendChild(docLink);\n",
              "        }\n",
              "      </script>\n",
              "    </div>\n",
              "  </div>\n",
              "  "
            ]
          },
          "metadata": {},
          "execution_count": 12
        }
      ]
    },
    {
      "cell_type": "code",
      "source": [
        "egr_nav =nav2018[nav2018[\"TEMA\"] == \"Egresos\"]"
      ],
      "metadata": {
        "id": "5tUEwMeSoxA_"
      },
      "execution_count": null,
      "outputs": []
    },
    {
      "cell_type": "code",
      "source": [
        "egresos_nav = egr_nav[[\"CATEGORIA\", \"DESCRIPCION_CATEGORIA\", \"VALOR\"]]\n",
        "egresos_nav.head()"
      ],
      "metadata": {
        "colab": {
          "base_uri": "https://localhost:8080/",
          "height": 206
        },
        "id": "a4YrnIs3pFVP",
        "outputId": "0cba42cd-19cf-487e-b01c-4ef027b7e86f"
      },
      "execution_count": null,
      "outputs": [
        {
          "output_type": "execute_result",
          "data": {
            "text/plain": [
              "               CATEGORIA                    DESCRIPCION_CATEGORIA      VALOR\n",
              "205994              Tema                         Total de egresos  623001575\n",
              "205995          Capítulo                     Servicios personales  218072744\n",
              "205996          Concepto               Remuneraciones al personal  110587656\n",
              "205997  Partida Genérica                    Dependencias diversas  110587656\n",
              "205998          Concepto  Remuneraciones adicionales y especiales   44824601"
            ],
            "text/html": [
              "\n",
              "  <div id=\"df-5b2f8af1-19ea-495f-b647-bf1618537f3a\">\n",
              "    <div class=\"colab-df-container\">\n",
              "      <div>\n",
              "<style scoped>\n",
              "    .dataframe tbody tr th:only-of-type {\n",
              "        vertical-align: middle;\n",
              "    }\n",
              "\n",
              "    .dataframe tbody tr th {\n",
              "        vertical-align: top;\n",
              "    }\n",
              "\n",
              "    .dataframe thead th {\n",
              "        text-align: right;\n",
              "    }\n",
              "</style>\n",
              "<table border=\"1\" class=\"dataframe\">\n",
              "  <thead>\n",
              "    <tr style=\"text-align: right;\">\n",
              "      <th></th>\n",
              "      <th>CATEGORIA</th>\n",
              "      <th>DESCRIPCION_CATEGORIA</th>\n",
              "      <th>VALOR</th>\n",
              "    </tr>\n",
              "  </thead>\n",
              "  <tbody>\n",
              "    <tr>\n",
              "      <th>205994</th>\n",
              "      <td>Tema</td>\n",
              "      <td>Total de egresos</td>\n",
              "      <td>623001575</td>\n",
              "    </tr>\n",
              "    <tr>\n",
              "      <th>205995</th>\n",
              "      <td>Capítulo</td>\n",
              "      <td>Servicios personales</td>\n",
              "      <td>218072744</td>\n",
              "    </tr>\n",
              "    <tr>\n",
              "      <th>205996</th>\n",
              "      <td>Concepto</td>\n",
              "      <td>Remuneraciones al personal</td>\n",
              "      <td>110587656</td>\n",
              "    </tr>\n",
              "    <tr>\n",
              "      <th>205997</th>\n",
              "      <td>Partida Genérica</td>\n",
              "      <td>Dependencias diversas</td>\n",
              "      <td>110587656</td>\n",
              "    </tr>\n",
              "    <tr>\n",
              "      <th>205998</th>\n",
              "      <td>Concepto</td>\n",
              "      <td>Remuneraciones adicionales y especiales</td>\n",
              "      <td>44824601</td>\n",
              "    </tr>\n",
              "  </tbody>\n",
              "</table>\n",
              "</div>\n",
              "      <button class=\"colab-df-convert\" onclick=\"convertToInteractive('df-5b2f8af1-19ea-495f-b647-bf1618537f3a')\"\n",
              "              title=\"Convert this dataframe to an interactive table.\"\n",
              "              style=\"display:none;\">\n",
              "        \n",
              "  <svg xmlns=\"http://www.w3.org/2000/svg\" height=\"24px\"viewBox=\"0 0 24 24\"\n",
              "       width=\"24px\">\n",
              "    <path d=\"M0 0h24v24H0V0z\" fill=\"none\"/>\n",
              "    <path d=\"M18.56 5.44l.94 2.06.94-2.06 2.06-.94-2.06-.94-.94-2.06-.94 2.06-2.06.94zm-11 1L8.5 8.5l.94-2.06 2.06-.94-2.06-.94L8.5 2.5l-.94 2.06-2.06.94zm10 10l.94 2.06.94-2.06 2.06-.94-2.06-.94-.94-2.06-.94 2.06-2.06.94z\"/><path d=\"M17.41 7.96l-1.37-1.37c-.4-.4-.92-.59-1.43-.59-.52 0-1.04.2-1.43.59L10.3 9.45l-7.72 7.72c-.78.78-.78 2.05 0 2.83L4 21.41c.39.39.9.59 1.41.59.51 0 1.02-.2 1.41-.59l7.78-7.78 2.81-2.81c.8-.78.8-2.07 0-2.86zM5.41 20L4 18.59l7.72-7.72 1.47 1.35L5.41 20z\"/>\n",
              "  </svg>\n",
              "      </button>\n",
              "      \n",
              "  <style>\n",
              "    .colab-df-container {\n",
              "      display:flex;\n",
              "      flex-wrap:wrap;\n",
              "      gap: 12px;\n",
              "    }\n",
              "\n",
              "    .colab-df-convert {\n",
              "      background-color: #E8F0FE;\n",
              "      border: none;\n",
              "      border-radius: 50%;\n",
              "      cursor: pointer;\n",
              "      display: none;\n",
              "      fill: #1967D2;\n",
              "      height: 32px;\n",
              "      padding: 0 0 0 0;\n",
              "      width: 32px;\n",
              "    }\n",
              "\n",
              "    .colab-df-convert:hover {\n",
              "      background-color: #E2EBFA;\n",
              "      box-shadow: 0px 1px 2px rgba(60, 64, 67, 0.3), 0px 1px 3px 1px rgba(60, 64, 67, 0.15);\n",
              "      fill: #174EA6;\n",
              "    }\n",
              "\n",
              "    [theme=dark] .colab-df-convert {\n",
              "      background-color: #3B4455;\n",
              "      fill: #D2E3FC;\n",
              "    }\n",
              "\n",
              "    [theme=dark] .colab-df-convert:hover {\n",
              "      background-color: #434B5C;\n",
              "      box-shadow: 0px 1px 3px 1px rgba(0, 0, 0, 0.15);\n",
              "      filter: drop-shadow(0px 1px 2px rgba(0, 0, 0, 0.3));\n",
              "      fill: #FFFFFF;\n",
              "    }\n",
              "  </style>\n",
              "\n",
              "      <script>\n",
              "        const buttonEl =\n",
              "          document.querySelector('#df-5b2f8af1-19ea-495f-b647-bf1618537f3a button.colab-df-convert');\n",
              "        buttonEl.style.display =\n",
              "          google.colab.kernel.accessAllowed ? 'block' : 'none';\n",
              "\n",
              "        async function convertToInteractive(key) {\n",
              "          const element = document.querySelector('#df-5b2f8af1-19ea-495f-b647-bf1618537f3a');\n",
              "          const dataTable =\n",
              "            await google.colab.kernel.invokeFunction('convertToInteractive',\n",
              "                                                     [key], {});\n",
              "          if (!dataTable) return;\n",
              "\n",
              "          const docLinkHtml = 'Like what you see? Visit the ' +\n",
              "            '<a target=\"_blank\" href=https://colab.research.google.com/notebooks/data_table.ipynb>data table notebook</a>'\n",
              "            + ' to learn more about interactive tables.';\n",
              "          element.innerHTML = '';\n",
              "          dataTable['output_type'] = 'display_data';\n",
              "          await google.colab.output.renderOutput(dataTable, element);\n",
              "          const docLink = document.createElement('div');\n",
              "          docLink.innerHTML = docLinkHtml;\n",
              "          element.appendChild(docLink);\n",
              "        }\n",
              "      </script>\n",
              "    </div>\n",
              "  </div>\n",
              "  "
            ]
          },
          "metadata": {},
          "execution_count": 14
        }
      ]
    },
    {
      "cell_type": "code",
      "source": [
        "egresos_nav.tail()"
      ],
      "metadata": {
        "id": "Hfv_SZHrY10k",
        "colab": {
          "base_uri": "https://localhost:8080/",
          "height": 206
        },
        "outputId": "7534ecb5-67ff-4cea-ce38-691a07028a15"
      },
      "execution_count": null,
      "outputs": [
        {
          "output_type": "execute_result",
          "data": {
            "text/plain": [
              "               CATEGORIA                              DESCRIPCION_CATEGORIA  \\\n",
              "206089  Partida Genérica  Amortización de la deuda interna con instituci...   \n",
              "206090  Partida Genérica        Diversas amortizaciones de la deuda pública   \n",
              "206091          Concepto                      Intereses de la deuda pública   \n",
              "206092  Partida Genérica  Intereses de la deuda interna con institucione...   \n",
              "206093          Capítulo                               Disponibilidad final   \n",
              "\n",
              "           VALOR  \n",
              "206089   9618973  \n",
              "206090   4297081  \n",
              "206091  14005841  \n",
              "206092  14005841  \n",
              "206093  39586283  "
            ],
            "text/html": [
              "\n",
              "  <div id=\"df-288195be-6e05-4237-a513-05298d2b1443\">\n",
              "    <div class=\"colab-df-container\">\n",
              "      <div>\n",
              "<style scoped>\n",
              "    .dataframe tbody tr th:only-of-type {\n",
              "        vertical-align: middle;\n",
              "    }\n",
              "\n",
              "    .dataframe tbody tr th {\n",
              "        vertical-align: top;\n",
              "    }\n",
              "\n",
              "    .dataframe thead th {\n",
              "        text-align: right;\n",
              "    }\n",
              "</style>\n",
              "<table border=\"1\" class=\"dataframe\">\n",
              "  <thead>\n",
              "    <tr style=\"text-align: right;\">\n",
              "      <th></th>\n",
              "      <th>CATEGORIA</th>\n",
              "      <th>DESCRIPCION_CATEGORIA</th>\n",
              "      <th>VALOR</th>\n",
              "    </tr>\n",
              "  </thead>\n",
              "  <tbody>\n",
              "    <tr>\n",
              "      <th>206089</th>\n",
              "      <td>Partida Genérica</td>\n",
              "      <td>Amortización de la deuda interna con instituci...</td>\n",
              "      <td>9618973</td>\n",
              "    </tr>\n",
              "    <tr>\n",
              "      <th>206090</th>\n",
              "      <td>Partida Genérica</td>\n",
              "      <td>Diversas amortizaciones de la deuda pública</td>\n",
              "      <td>4297081</td>\n",
              "    </tr>\n",
              "    <tr>\n",
              "      <th>206091</th>\n",
              "      <td>Concepto</td>\n",
              "      <td>Intereses de la deuda pública</td>\n",
              "      <td>14005841</td>\n",
              "    </tr>\n",
              "    <tr>\n",
              "      <th>206092</th>\n",
              "      <td>Partida Genérica</td>\n",
              "      <td>Intereses de la deuda interna con institucione...</td>\n",
              "      <td>14005841</td>\n",
              "    </tr>\n",
              "    <tr>\n",
              "      <th>206093</th>\n",
              "      <td>Capítulo</td>\n",
              "      <td>Disponibilidad final</td>\n",
              "      <td>39586283</td>\n",
              "    </tr>\n",
              "  </tbody>\n",
              "</table>\n",
              "</div>\n",
              "      <button class=\"colab-df-convert\" onclick=\"convertToInteractive('df-288195be-6e05-4237-a513-05298d2b1443')\"\n",
              "              title=\"Convert this dataframe to an interactive table.\"\n",
              "              style=\"display:none;\">\n",
              "        \n",
              "  <svg xmlns=\"http://www.w3.org/2000/svg\" height=\"24px\"viewBox=\"0 0 24 24\"\n",
              "       width=\"24px\">\n",
              "    <path d=\"M0 0h24v24H0V0z\" fill=\"none\"/>\n",
              "    <path d=\"M18.56 5.44l.94 2.06.94-2.06 2.06-.94-2.06-.94-.94-2.06-.94 2.06-2.06.94zm-11 1L8.5 8.5l.94-2.06 2.06-.94-2.06-.94L8.5 2.5l-.94 2.06-2.06.94zm10 10l.94 2.06.94-2.06 2.06-.94-2.06-.94-.94-2.06-.94 2.06-2.06.94z\"/><path d=\"M17.41 7.96l-1.37-1.37c-.4-.4-.92-.59-1.43-.59-.52 0-1.04.2-1.43.59L10.3 9.45l-7.72 7.72c-.78.78-.78 2.05 0 2.83L4 21.41c.39.39.9.59 1.41.59.51 0 1.02-.2 1.41-.59l7.78-7.78 2.81-2.81c.8-.78.8-2.07 0-2.86zM5.41 20L4 18.59l7.72-7.72 1.47 1.35L5.41 20z\"/>\n",
              "  </svg>\n",
              "      </button>\n",
              "      \n",
              "  <style>\n",
              "    .colab-df-container {\n",
              "      display:flex;\n",
              "      flex-wrap:wrap;\n",
              "      gap: 12px;\n",
              "    }\n",
              "\n",
              "    .colab-df-convert {\n",
              "      background-color: #E8F0FE;\n",
              "      border: none;\n",
              "      border-radius: 50%;\n",
              "      cursor: pointer;\n",
              "      display: none;\n",
              "      fill: #1967D2;\n",
              "      height: 32px;\n",
              "      padding: 0 0 0 0;\n",
              "      width: 32px;\n",
              "    }\n",
              "\n",
              "    .colab-df-convert:hover {\n",
              "      background-color: #E2EBFA;\n",
              "      box-shadow: 0px 1px 2px rgba(60, 64, 67, 0.3), 0px 1px 3px 1px rgba(60, 64, 67, 0.15);\n",
              "      fill: #174EA6;\n",
              "    }\n",
              "\n",
              "    [theme=dark] .colab-df-convert {\n",
              "      background-color: #3B4455;\n",
              "      fill: #D2E3FC;\n",
              "    }\n",
              "\n",
              "    [theme=dark] .colab-df-convert:hover {\n",
              "      background-color: #434B5C;\n",
              "      box-shadow: 0px 1px 3px 1px rgba(0, 0, 0, 0.15);\n",
              "      filter: drop-shadow(0px 1px 2px rgba(0, 0, 0, 0.3));\n",
              "      fill: #FFFFFF;\n",
              "    }\n",
              "  </style>\n",
              "\n",
              "      <script>\n",
              "        const buttonEl =\n",
              "          document.querySelector('#df-288195be-6e05-4237-a513-05298d2b1443 button.colab-df-convert');\n",
              "        buttonEl.style.display =\n",
              "          google.colab.kernel.accessAllowed ? 'block' : 'none';\n",
              "\n",
              "        async function convertToInteractive(key) {\n",
              "          const element = document.querySelector('#df-288195be-6e05-4237-a513-05298d2b1443');\n",
              "          const dataTable =\n",
              "            await google.colab.kernel.invokeFunction('convertToInteractive',\n",
              "                                                     [key], {});\n",
              "          if (!dataTable) return;\n",
              "\n",
              "          const docLinkHtml = 'Like what you see? Visit the ' +\n",
              "            '<a target=\"_blank\" href=https://colab.research.google.com/notebooks/data_table.ipynb>data table notebook</a>'\n",
              "            + ' to learn more about interactive tables.';\n",
              "          element.innerHTML = '';\n",
              "          dataTable['output_type'] = 'display_data';\n",
              "          await google.colab.output.renderOutput(dataTable, element);\n",
              "          const docLink = document.createElement('div');\n",
              "          docLink.innerHTML = docLinkHtml;\n",
              "          element.appendChild(docLink);\n",
              "        }\n",
              "      </script>\n",
              "    </div>\n",
              "  </div>\n",
              "  "
            ]
          },
          "metadata": {},
          "execution_count": 15
        }
      ]
    },
    {
      "cell_type": "code",
      "source": [
        "egr_totales_nav = egresos_nav[egresos_nav[\"DESCRIPCION_CATEGORIA\"] == \"Total de egresos\"]\n",
        "egr_totales_nav"
      ],
      "metadata": {
        "colab": {
          "base_uri": "https://localhost:8080/",
          "height": 81
        },
        "id": "ebzoZLkYYeEh",
        "outputId": "714dad38-92c7-4c89-a553-c85c34236af6"
      },
      "execution_count": null,
      "outputs": [
        {
          "output_type": "execute_result",
          "data": {
            "text/plain": [
              "       CATEGORIA DESCRIPCION_CATEGORIA      VALOR\n",
              "205994      Tema      Total de egresos  623001575"
            ],
            "text/html": [
              "\n",
              "  <div id=\"df-fbb1fbd2-b41b-4bd4-95b8-87274c6b343c\">\n",
              "    <div class=\"colab-df-container\">\n",
              "      <div>\n",
              "<style scoped>\n",
              "    .dataframe tbody tr th:only-of-type {\n",
              "        vertical-align: middle;\n",
              "    }\n",
              "\n",
              "    .dataframe tbody tr th {\n",
              "        vertical-align: top;\n",
              "    }\n",
              "\n",
              "    .dataframe thead th {\n",
              "        text-align: right;\n",
              "    }\n",
              "</style>\n",
              "<table border=\"1\" class=\"dataframe\">\n",
              "  <thead>\n",
              "    <tr style=\"text-align: right;\">\n",
              "      <th></th>\n",
              "      <th>CATEGORIA</th>\n",
              "      <th>DESCRIPCION_CATEGORIA</th>\n",
              "      <th>VALOR</th>\n",
              "    </tr>\n",
              "  </thead>\n",
              "  <tbody>\n",
              "    <tr>\n",
              "      <th>205994</th>\n",
              "      <td>Tema</td>\n",
              "      <td>Total de egresos</td>\n",
              "      <td>623001575</td>\n",
              "    </tr>\n",
              "  </tbody>\n",
              "</table>\n",
              "</div>\n",
              "      <button class=\"colab-df-convert\" onclick=\"convertToInteractive('df-fbb1fbd2-b41b-4bd4-95b8-87274c6b343c')\"\n",
              "              title=\"Convert this dataframe to an interactive table.\"\n",
              "              style=\"display:none;\">\n",
              "        \n",
              "  <svg xmlns=\"http://www.w3.org/2000/svg\" height=\"24px\"viewBox=\"0 0 24 24\"\n",
              "       width=\"24px\">\n",
              "    <path d=\"M0 0h24v24H0V0z\" fill=\"none\"/>\n",
              "    <path d=\"M18.56 5.44l.94 2.06.94-2.06 2.06-.94-2.06-.94-.94-2.06-.94 2.06-2.06.94zm-11 1L8.5 8.5l.94-2.06 2.06-.94-2.06-.94L8.5 2.5l-.94 2.06-2.06.94zm10 10l.94 2.06.94-2.06 2.06-.94-2.06-.94-.94-2.06-.94 2.06-2.06.94z\"/><path d=\"M17.41 7.96l-1.37-1.37c-.4-.4-.92-.59-1.43-.59-.52 0-1.04.2-1.43.59L10.3 9.45l-7.72 7.72c-.78.78-.78 2.05 0 2.83L4 21.41c.39.39.9.59 1.41.59.51 0 1.02-.2 1.41-.59l7.78-7.78 2.81-2.81c.8-.78.8-2.07 0-2.86zM5.41 20L4 18.59l7.72-7.72 1.47 1.35L5.41 20z\"/>\n",
              "  </svg>\n",
              "      </button>\n",
              "      \n",
              "  <style>\n",
              "    .colab-df-container {\n",
              "      display:flex;\n",
              "      flex-wrap:wrap;\n",
              "      gap: 12px;\n",
              "    }\n",
              "\n",
              "    .colab-df-convert {\n",
              "      background-color: #E8F0FE;\n",
              "      border: none;\n",
              "      border-radius: 50%;\n",
              "      cursor: pointer;\n",
              "      display: none;\n",
              "      fill: #1967D2;\n",
              "      height: 32px;\n",
              "      padding: 0 0 0 0;\n",
              "      width: 32px;\n",
              "    }\n",
              "\n",
              "    .colab-df-convert:hover {\n",
              "      background-color: #E2EBFA;\n",
              "      box-shadow: 0px 1px 2px rgba(60, 64, 67, 0.3), 0px 1px 3px 1px rgba(60, 64, 67, 0.15);\n",
              "      fill: #174EA6;\n",
              "    }\n",
              "\n",
              "    [theme=dark] .colab-df-convert {\n",
              "      background-color: #3B4455;\n",
              "      fill: #D2E3FC;\n",
              "    }\n",
              "\n",
              "    [theme=dark] .colab-df-convert:hover {\n",
              "      background-color: #434B5C;\n",
              "      box-shadow: 0px 1px 3px 1px rgba(0, 0, 0, 0.15);\n",
              "      filter: drop-shadow(0px 1px 2px rgba(0, 0, 0, 0.3));\n",
              "      fill: #FFFFFF;\n",
              "    }\n",
              "  </style>\n",
              "\n",
              "      <script>\n",
              "        const buttonEl =\n",
              "          document.querySelector('#df-fbb1fbd2-b41b-4bd4-95b8-87274c6b343c button.colab-df-convert');\n",
              "        buttonEl.style.display =\n",
              "          google.colab.kernel.accessAllowed ? 'block' : 'none';\n",
              "\n",
              "        async function convertToInteractive(key) {\n",
              "          const element = document.querySelector('#df-fbb1fbd2-b41b-4bd4-95b8-87274c6b343c');\n",
              "          const dataTable =\n",
              "            await google.colab.kernel.invokeFunction('convertToInteractive',\n",
              "                                                     [key], {});\n",
              "          if (!dataTable) return;\n",
              "\n",
              "          const docLinkHtml = 'Like what you see? Visit the ' +\n",
              "            '<a target=\"_blank\" href=https://colab.research.google.com/notebooks/data_table.ipynb>data table notebook</a>'\n",
              "            + ' to learn more about interactive tables.';\n",
              "          element.innerHTML = '';\n",
              "          dataTable['output_type'] = 'display_data';\n",
              "          await google.colab.output.renderOutput(dataTable, element);\n",
              "          const docLink = document.createElement('div');\n",
              "          docLink.innerHTML = docLinkHtml;\n",
              "          element.appendChild(docLink);\n",
              "        }\n",
              "      </script>\n",
              "    </div>\n",
              "  </div>\n",
              "  "
            ]
          },
          "metadata": {},
          "execution_count": 16
        }
      ]
    },
    {
      "cell_type": "code",
      "source": [
        "egresos_nav_capitulo = egresos_nav[egresos_nav[\"CATEGORIA\"] == \"Capítulo\"]\n",
        "egresos_nav_capitulo"
      ],
      "metadata": {
        "colab": {
          "base_uri": "https://localhost:8080/",
          "height": 300
        },
        "id": "2GjlcQO5Zi6Y",
        "outputId": "081052fe-c619-4c24-94c4-ed0871c368e4"
      },
      "execution_count": null,
      "outputs": [
        {
          "output_type": "execute_result",
          "data": {
            "text/plain": [
              "       CATEGORIA                              DESCRIPCION_CATEGORIA      VALOR\n",
              "205995  Capítulo                               Servicios personales  218072744\n",
              "206012  Capítulo                           Materiales y suministros   40254261\n",
              "206029  Capítulo                                Servicios generales  122086491\n",
              "206071  Capítulo  Transferencias, asignaciones, subsidios y otra...   98359321\n",
              "206082  Capítulo            Bienes muebles, inmuebles e intangibles   62013198\n",
              "206084  Capítulo                                  Inversión pública   14707382\n",
              "206087  Capítulo                                      Deuda pública   27921895\n",
              "206093  Capítulo                               Disponibilidad final   39586283"
            ],
            "text/html": [
              "\n",
              "  <div id=\"df-7de4bc66-e9c0-471a-a60d-b109c6ec36d8\">\n",
              "    <div class=\"colab-df-container\">\n",
              "      <div>\n",
              "<style scoped>\n",
              "    .dataframe tbody tr th:only-of-type {\n",
              "        vertical-align: middle;\n",
              "    }\n",
              "\n",
              "    .dataframe tbody tr th {\n",
              "        vertical-align: top;\n",
              "    }\n",
              "\n",
              "    .dataframe thead th {\n",
              "        text-align: right;\n",
              "    }\n",
              "</style>\n",
              "<table border=\"1\" class=\"dataframe\">\n",
              "  <thead>\n",
              "    <tr style=\"text-align: right;\">\n",
              "      <th></th>\n",
              "      <th>CATEGORIA</th>\n",
              "      <th>DESCRIPCION_CATEGORIA</th>\n",
              "      <th>VALOR</th>\n",
              "    </tr>\n",
              "  </thead>\n",
              "  <tbody>\n",
              "    <tr>\n",
              "      <th>205995</th>\n",
              "      <td>Capítulo</td>\n",
              "      <td>Servicios personales</td>\n",
              "      <td>218072744</td>\n",
              "    </tr>\n",
              "    <tr>\n",
              "      <th>206012</th>\n",
              "      <td>Capítulo</td>\n",
              "      <td>Materiales y suministros</td>\n",
              "      <td>40254261</td>\n",
              "    </tr>\n",
              "    <tr>\n",
              "      <th>206029</th>\n",
              "      <td>Capítulo</td>\n",
              "      <td>Servicios generales</td>\n",
              "      <td>122086491</td>\n",
              "    </tr>\n",
              "    <tr>\n",
              "      <th>206071</th>\n",
              "      <td>Capítulo</td>\n",
              "      <td>Transferencias, asignaciones, subsidios y otra...</td>\n",
              "      <td>98359321</td>\n",
              "    </tr>\n",
              "    <tr>\n",
              "      <th>206082</th>\n",
              "      <td>Capítulo</td>\n",
              "      <td>Bienes muebles, inmuebles e intangibles</td>\n",
              "      <td>62013198</td>\n",
              "    </tr>\n",
              "    <tr>\n",
              "      <th>206084</th>\n",
              "      <td>Capítulo</td>\n",
              "      <td>Inversión pública</td>\n",
              "      <td>14707382</td>\n",
              "    </tr>\n",
              "    <tr>\n",
              "      <th>206087</th>\n",
              "      <td>Capítulo</td>\n",
              "      <td>Deuda pública</td>\n",
              "      <td>27921895</td>\n",
              "    </tr>\n",
              "    <tr>\n",
              "      <th>206093</th>\n",
              "      <td>Capítulo</td>\n",
              "      <td>Disponibilidad final</td>\n",
              "      <td>39586283</td>\n",
              "    </tr>\n",
              "  </tbody>\n",
              "</table>\n",
              "</div>\n",
              "      <button class=\"colab-df-convert\" onclick=\"convertToInteractive('df-7de4bc66-e9c0-471a-a60d-b109c6ec36d8')\"\n",
              "              title=\"Convert this dataframe to an interactive table.\"\n",
              "              style=\"display:none;\">\n",
              "        \n",
              "  <svg xmlns=\"http://www.w3.org/2000/svg\" height=\"24px\"viewBox=\"0 0 24 24\"\n",
              "       width=\"24px\">\n",
              "    <path d=\"M0 0h24v24H0V0z\" fill=\"none\"/>\n",
              "    <path d=\"M18.56 5.44l.94 2.06.94-2.06 2.06-.94-2.06-.94-.94-2.06-.94 2.06-2.06.94zm-11 1L8.5 8.5l.94-2.06 2.06-.94-2.06-.94L8.5 2.5l-.94 2.06-2.06.94zm10 10l.94 2.06.94-2.06 2.06-.94-2.06-.94-.94-2.06-.94 2.06-2.06.94z\"/><path d=\"M17.41 7.96l-1.37-1.37c-.4-.4-.92-.59-1.43-.59-.52 0-1.04.2-1.43.59L10.3 9.45l-7.72 7.72c-.78.78-.78 2.05 0 2.83L4 21.41c.39.39.9.59 1.41.59.51 0 1.02-.2 1.41-.59l7.78-7.78 2.81-2.81c.8-.78.8-2.07 0-2.86zM5.41 20L4 18.59l7.72-7.72 1.47 1.35L5.41 20z\"/>\n",
              "  </svg>\n",
              "      </button>\n",
              "      \n",
              "  <style>\n",
              "    .colab-df-container {\n",
              "      display:flex;\n",
              "      flex-wrap:wrap;\n",
              "      gap: 12px;\n",
              "    }\n",
              "\n",
              "    .colab-df-convert {\n",
              "      background-color: #E8F0FE;\n",
              "      border: none;\n",
              "      border-radius: 50%;\n",
              "      cursor: pointer;\n",
              "      display: none;\n",
              "      fill: #1967D2;\n",
              "      height: 32px;\n",
              "      padding: 0 0 0 0;\n",
              "      width: 32px;\n",
              "    }\n",
              "\n",
              "    .colab-df-convert:hover {\n",
              "      background-color: #E2EBFA;\n",
              "      box-shadow: 0px 1px 2px rgba(60, 64, 67, 0.3), 0px 1px 3px 1px rgba(60, 64, 67, 0.15);\n",
              "      fill: #174EA6;\n",
              "    }\n",
              "\n",
              "    [theme=dark] .colab-df-convert {\n",
              "      background-color: #3B4455;\n",
              "      fill: #D2E3FC;\n",
              "    }\n",
              "\n",
              "    [theme=dark] .colab-df-convert:hover {\n",
              "      background-color: #434B5C;\n",
              "      box-shadow: 0px 1px 3px 1px rgba(0, 0, 0, 0.15);\n",
              "      filter: drop-shadow(0px 1px 2px rgba(0, 0, 0, 0.3));\n",
              "      fill: #FFFFFF;\n",
              "    }\n",
              "  </style>\n",
              "\n",
              "      <script>\n",
              "        const buttonEl =\n",
              "          document.querySelector('#df-7de4bc66-e9c0-471a-a60d-b109c6ec36d8 button.colab-df-convert');\n",
              "        buttonEl.style.display =\n",
              "          google.colab.kernel.accessAllowed ? 'block' : 'none';\n",
              "\n",
              "        async function convertToInteractive(key) {\n",
              "          const element = document.querySelector('#df-7de4bc66-e9c0-471a-a60d-b109c6ec36d8');\n",
              "          const dataTable =\n",
              "            await google.colab.kernel.invokeFunction('convertToInteractive',\n",
              "                                                     [key], {});\n",
              "          if (!dataTable) return;\n",
              "\n",
              "          const docLinkHtml = 'Like what you see? Visit the ' +\n",
              "            '<a target=\"_blank\" href=https://colab.research.google.com/notebooks/data_table.ipynb>data table notebook</a>'\n",
              "            + ' to learn more about interactive tables.';\n",
              "          element.innerHTML = '';\n",
              "          dataTable['output_type'] = 'display_data';\n",
              "          await google.colab.output.renderOutput(dataTable, element);\n",
              "          const docLink = document.createElement('div');\n",
              "          docLink.innerHTML = docLinkHtml;\n",
              "          element.appendChild(docLink);\n",
              "        }\n",
              "      </script>\n",
              "    </div>\n",
              "  </div>\n",
              "  "
            ]
          },
          "metadata": {},
          "execution_count": 17
        }
      ]
    },
    {
      "cell_type": "code",
      "source": [
        "# Suma de todos los egresos por capítulo\n",
        "np.sum(egresos_nav_capitulo.VALOR)"
      ],
      "metadata": {
        "colab": {
          "base_uri": "https://localhost:8080/"
        },
        "id": "_nX_wgOpZ53_",
        "outputId": "056807d5-92db-49e1-911d-e66bc1157932"
      },
      "execution_count": null,
      "outputs": [
        {
          "output_type": "execute_result",
          "data": {
            "text/plain": [
              "623001575"
            ]
          },
          "metadata": {},
          "execution_count": 18
        }
      ]
    },
    {
      "cell_type": "markdown",
      "source": [
        "Podemos notar que la suma de todos los egreos por capítulo es igual al \"Total de egresos\" señalado en la primera linea de \"egresos_nav\". Los cuales son $623,001,575"
      ],
      "metadata": {
        "id": "q1s5EBIRbdih"
      }
    },
    {
      "cell_type": "code",
      "source": [
        "# Crear un bucle para elaborar columnas y sacar porcentajes de los capitulos de gasto\n",
        "# Primero convertimos el valor de egresos totales en \"int\"\n",
        "valor_egr_total = int(egr_totales_nav.VALOR)\n",
        "valor_egr_total"
      ],
      "metadata": {
        "colab": {
          "base_uri": "https://localhost:8080/"
        },
        "id": "QfQtMavKaz63",
        "outputId": "d3c7ab9a-23be-4d02-a9d7-5f17837be30b"
      },
      "execution_count": null,
      "outputs": [
        {
          "output_type": "execute_result",
          "data": {
            "text/plain": [
              "623001575"
            ]
          },
          "metadata": {},
          "execution_count": 19
        }
      ]
    },
    {
      "cell_type": "code",
      "source": [
        "# Ahora ya podemos realizar el bucle usando este variable\n",
        "porcentaje = []\n",
        "for i in (egresos_nav_capitulo.VALOR):\n",
        "  porcentaje.append(i / valor_egr_total)"
      ],
      "metadata": {
        "id": "V0ACjEzsg3Ng"
      },
      "execution_count": null,
      "outputs": []
    },
    {
      "cell_type": "code",
      "source": [
        "porcentaje"
      ],
      "metadata": {
        "colab": {
          "base_uri": "https://localhost:8080/"
        },
        "id": "ARXszz7wjKxW",
        "outputId": "d974e2bf-e249-438d-fb54-4c80bea5a32c"
      },
      "execution_count": null,
      "outputs": [
        {
          "output_type": "execute_result",
          "data": {
            "text/plain": [
              "[0.3500356223015969,\n",
              " 0.06461341771086213,\n",
              " 0.1959649797033017,\n",
              " 0.15787973088190027,\n",
              " 0.0995393920151807,\n",
              " 0.02360729505378859,\n",
              " 0.04481833773855227,\n",
              " 0.06354122459481744]"
            ]
          },
          "metadata": {},
          "execution_count": 21
        }
      ]
    },
    {
      "cell_type": "code",
      "source": [
        "# Ahora generamos el dataframe con la descripción del capítulo que viene en la columna \"DESCRIPCION_CATEGORIA\",\n",
        "# la columna \"VALOR\" Y \"Porcentaje\"\n",
        "df_porcentaje = pd.DataFrame(\n",
        "    {\n",
        "        \"Capitulo\": egresos_nav_capitulo.DESCRIPCION_CATEGORIA,\n",
        "        \"Valor\": egresos_nav_capitulo.VALOR,\n",
        "     \"Porcentaje\": porcentaje\n",
        "    }\n",
        ")"
      ],
      "metadata": {
        "id": "hnXal-tnhoOE"
      },
      "execution_count": null,
      "outputs": []
    },
    {
      "cell_type": "code",
      "source": [
        "df_porcentaje"
      ],
      "metadata": {
        "colab": {
          "base_uri": "https://localhost:8080/",
          "height": 300
        },
        "id": "13VSFavGlgQK",
        "outputId": "603f24be-8f18-48a8-c4bc-533089e3483b"
      },
      "execution_count": null,
      "outputs": [
        {
          "output_type": "execute_result",
          "data": {
            "text/plain": [
              "                                                 Capitulo      Valor  \\\n",
              "205995                               Servicios personales  218072744   \n",
              "206012                           Materiales y suministros   40254261   \n",
              "206029                                Servicios generales  122086491   \n",
              "206071  Transferencias, asignaciones, subsidios y otra...   98359321   \n",
              "206082            Bienes muebles, inmuebles e intangibles   62013198   \n",
              "206084                                  Inversión pública   14707382   \n",
              "206087                                      Deuda pública   27921895   \n",
              "206093                               Disponibilidad final   39586283   \n",
              "\n",
              "        Porcentaje  \n",
              "205995    0.350036  \n",
              "206012    0.064613  \n",
              "206029    0.195965  \n",
              "206071    0.157880  \n",
              "206082    0.099539  \n",
              "206084    0.023607  \n",
              "206087    0.044818  \n",
              "206093    0.063541  "
            ],
            "text/html": [
              "\n",
              "  <div id=\"df-bb625c44-ec04-4dbd-b7bf-55be15a7b89f\">\n",
              "    <div class=\"colab-df-container\">\n",
              "      <div>\n",
              "<style scoped>\n",
              "    .dataframe tbody tr th:only-of-type {\n",
              "        vertical-align: middle;\n",
              "    }\n",
              "\n",
              "    .dataframe tbody tr th {\n",
              "        vertical-align: top;\n",
              "    }\n",
              "\n",
              "    .dataframe thead th {\n",
              "        text-align: right;\n",
              "    }\n",
              "</style>\n",
              "<table border=\"1\" class=\"dataframe\">\n",
              "  <thead>\n",
              "    <tr style=\"text-align: right;\">\n",
              "      <th></th>\n",
              "      <th>Capitulo</th>\n",
              "      <th>Valor</th>\n",
              "      <th>Porcentaje</th>\n",
              "    </tr>\n",
              "  </thead>\n",
              "  <tbody>\n",
              "    <tr>\n",
              "      <th>205995</th>\n",
              "      <td>Servicios personales</td>\n",
              "      <td>218072744</td>\n",
              "      <td>0.350036</td>\n",
              "    </tr>\n",
              "    <tr>\n",
              "      <th>206012</th>\n",
              "      <td>Materiales y suministros</td>\n",
              "      <td>40254261</td>\n",
              "      <td>0.064613</td>\n",
              "    </tr>\n",
              "    <tr>\n",
              "      <th>206029</th>\n",
              "      <td>Servicios generales</td>\n",
              "      <td>122086491</td>\n",
              "      <td>0.195965</td>\n",
              "    </tr>\n",
              "    <tr>\n",
              "      <th>206071</th>\n",
              "      <td>Transferencias, asignaciones, subsidios y otra...</td>\n",
              "      <td>98359321</td>\n",
              "      <td>0.157880</td>\n",
              "    </tr>\n",
              "    <tr>\n",
              "      <th>206082</th>\n",
              "      <td>Bienes muebles, inmuebles e intangibles</td>\n",
              "      <td>62013198</td>\n",
              "      <td>0.099539</td>\n",
              "    </tr>\n",
              "    <tr>\n",
              "      <th>206084</th>\n",
              "      <td>Inversión pública</td>\n",
              "      <td>14707382</td>\n",
              "      <td>0.023607</td>\n",
              "    </tr>\n",
              "    <tr>\n",
              "      <th>206087</th>\n",
              "      <td>Deuda pública</td>\n",
              "      <td>27921895</td>\n",
              "      <td>0.044818</td>\n",
              "    </tr>\n",
              "    <tr>\n",
              "      <th>206093</th>\n",
              "      <td>Disponibilidad final</td>\n",
              "      <td>39586283</td>\n",
              "      <td>0.063541</td>\n",
              "    </tr>\n",
              "  </tbody>\n",
              "</table>\n",
              "</div>\n",
              "      <button class=\"colab-df-convert\" onclick=\"convertToInteractive('df-bb625c44-ec04-4dbd-b7bf-55be15a7b89f')\"\n",
              "              title=\"Convert this dataframe to an interactive table.\"\n",
              "              style=\"display:none;\">\n",
              "        \n",
              "  <svg xmlns=\"http://www.w3.org/2000/svg\" height=\"24px\"viewBox=\"0 0 24 24\"\n",
              "       width=\"24px\">\n",
              "    <path d=\"M0 0h24v24H0V0z\" fill=\"none\"/>\n",
              "    <path d=\"M18.56 5.44l.94 2.06.94-2.06 2.06-.94-2.06-.94-.94-2.06-.94 2.06-2.06.94zm-11 1L8.5 8.5l.94-2.06 2.06-.94-2.06-.94L8.5 2.5l-.94 2.06-2.06.94zm10 10l.94 2.06.94-2.06 2.06-.94-2.06-.94-.94-2.06-.94 2.06-2.06.94z\"/><path d=\"M17.41 7.96l-1.37-1.37c-.4-.4-.92-.59-1.43-.59-.52 0-1.04.2-1.43.59L10.3 9.45l-7.72 7.72c-.78.78-.78 2.05 0 2.83L4 21.41c.39.39.9.59 1.41.59.51 0 1.02-.2 1.41-.59l7.78-7.78 2.81-2.81c.8-.78.8-2.07 0-2.86zM5.41 20L4 18.59l7.72-7.72 1.47 1.35L5.41 20z\"/>\n",
              "  </svg>\n",
              "      </button>\n",
              "      \n",
              "  <style>\n",
              "    .colab-df-container {\n",
              "      display:flex;\n",
              "      flex-wrap:wrap;\n",
              "      gap: 12px;\n",
              "    }\n",
              "\n",
              "    .colab-df-convert {\n",
              "      background-color: #E8F0FE;\n",
              "      border: none;\n",
              "      border-radius: 50%;\n",
              "      cursor: pointer;\n",
              "      display: none;\n",
              "      fill: #1967D2;\n",
              "      height: 32px;\n",
              "      padding: 0 0 0 0;\n",
              "      width: 32px;\n",
              "    }\n",
              "\n",
              "    .colab-df-convert:hover {\n",
              "      background-color: #E2EBFA;\n",
              "      box-shadow: 0px 1px 2px rgba(60, 64, 67, 0.3), 0px 1px 3px 1px rgba(60, 64, 67, 0.15);\n",
              "      fill: #174EA6;\n",
              "    }\n",
              "\n",
              "    [theme=dark] .colab-df-convert {\n",
              "      background-color: #3B4455;\n",
              "      fill: #D2E3FC;\n",
              "    }\n",
              "\n",
              "    [theme=dark] .colab-df-convert:hover {\n",
              "      background-color: #434B5C;\n",
              "      box-shadow: 0px 1px 3px 1px rgba(0, 0, 0, 0.15);\n",
              "      filter: drop-shadow(0px 1px 2px rgba(0, 0, 0, 0.3));\n",
              "      fill: #FFFFFF;\n",
              "    }\n",
              "  </style>\n",
              "\n",
              "      <script>\n",
              "        const buttonEl =\n",
              "          document.querySelector('#df-bb625c44-ec04-4dbd-b7bf-55be15a7b89f button.colab-df-convert');\n",
              "        buttonEl.style.display =\n",
              "          google.colab.kernel.accessAllowed ? 'block' : 'none';\n",
              "\n",
              "        async function convertToInteractive(key) {\n",
              "          const element = document.querySelector('#df-bb625c44-ec04-4dbd-b7bf-55be15a7b89f');\n",
              "          const dataTable =\n",
              "            await google.colab.kernel.invokeFunction('convertToInteractive',\n",
              "                                                     [key], {});\n",
              "          if (!dataTable) return;\n",
              "\n",
              "          const docLinkHtml = 'Like what you see? Visit the ' +\n",
              "            '<a target=\"_blank\" href=https://colab.research.google.com/notebooks/data_table.ipynb>data table notebook</a>'\n",
              "            + ' to learn more about interactive tables.';\n",
              "          element.innerHTML = '';\n",
              "          dataTable['output_type'] = 'display_data';\n",
              "          await google.colab.output.renderOutput(dataTable, element);\n",
              "          const docLink = document.createElement('div');\n",
              "          docLink.innerHTML = docLinkHtml;\n",
              "          element.appendChild(docLink);\n",
              "        }\n",
              "      </script>\n",
              "    </div>\n",
              "  </div>\n",
              "  "
            ]
          },
          "metadata": {},
          "execution_count": 23
        }
      ]
    },
    {
      "cell_type": "code",
      "source": [
        "# Realizaremos un par de gráficas para visualizar los resultados\n",
        "sns.barplot(data= df_porcentaje, x= \"Porcentaje\", y= \"Capitulo\")"
      ],
      "metadata": {
        "colab": {
          "base_uri": "https://localhost:8080/",
          "height": 296
        },
        "id": "MLCgfXqMlhse",
        "outputId": "17eee78f-f8a6-4693-c2cd-864b76dd29bc"
      },
      "execution_count": null,
      "outputs": [
        {
          "output_type": "execute_result",
          "data": {
            "text/plain": [
              "<matplotlib.axes._subplots.AxesSubplot at 0x7f87a771c7d0>"
            ]
          },
          "metadata": {},
          "execution_count": 24
        },
        {
          "output_type": "display_data",
          "data": {
            "text/plain": [
              "<Figure size 432x288 with 1 Axes>"
            ],
            "image/png": "[encoded data removed]"
          },
          "metadata": {
            "needs_background": "light"
          }
        }
      ]
    },
    {
      "cell_type": "markdown",
      "source": [
        "1. ¿Cuál es el capítulo que mayor gasto ha representado para el municipio de Navojoa en 2018?\n",
        "\n",
        "R= Como se puede observar el capítulo de \"Servicios personales\" es el que ha representado un gasto mayor para el municipio en 2018, con un 35% de los egresos totales. Seguido del rubro de \"servicios generales\" con un 19.6% de los egresos."
      ],
      "metadata": {
        "id": "aX237j9hmrHK"
      }
    },
    {
      "cell_type": "markdown",
      "source": [
        "2. ¿Cuál es capítulo en que se ha gastado menos?\n",
        "\n",
        "R= El rubro en el que se ha gastado menos es en \"Inversión Pública\" asignándole un 2.3% del presupuesto anual."
      ],
      "metadata": {
        "id": "-AhESmLkn3Rr"
      }
    },
    {
      "cell_type": "code",
      "source": [
        "def df_municipio(municipio):\n",
        "  datos = pd.read_csv(\"/content/conjunto_de_datos/efipem_municipal_anual_tr_cifra_2018.csv\")\n",
        "  catal_munic = pd.read_csv(\"/content/catalogos/tc_municipio.csv\")\n",
        "  id_munic = catal_munic[catal_munic[\"NOM_MUN\"] == municipio]\n",
        "  id_ent = int(id_munic.ID_ENTIDAD[0:1])\n",
        "  id_municipio = int(id_munic.ID_MUNICIPIO[0:1])\n",
        "  munic_18 = datos[(datos[\"ID_MUNICIPIO\"] == id_municipio) & (datos[\"ID_ENTIDAD\"] == id_ent)]\n",
        "  egr_munic_18 = munic_18[munic_18[\"TEMA\"] == \"Egresos\"]\n",
        "  egresos_munic = egr_munic_18[[\"CATEGORIA\", \"DESCRIPCION_CATEGORIA\", \"VALOR\"]]\n",
        "  egr_totales_munic = egresos_munic[egresos_munic[\"DESCRIPCION_CATEGORIA\"] == \"Total de egresos\"]\n",
        "  valor_egr_totales = int(egr_totales_munic.VALOR)\n",
        "  \n",
        "  egresos_munic_capitulo = egresos_munic[(egresos_munic[\"CATEGORIA\"] == \"Capítulo\") & (egresos_munic[\"DESCRIPCION_CATEGORIA\"] != \"Disponibilidad final\")]\n",
        "  \n",
        "  porcentaje = []\n",
        "  for i in (egresos_munic_capitulo.VALOR):\n",
        "    porcentaje.append(i / valor_egr_totales)\n",
        "  \n",
        "  df_porcentaje = pd.DataFrame(\n",
        "    {\n",
        "        \"Capitulo\": egresos_munic_capitulo.DESCRIPCION_CATEGORIA,\n",
        "        \"Valor\": egresos_munic_capitulo.VALOR,\n",
        "     \"Porcentaje\": porcentaje\n",
        "    }\n",
        "                              )\n",
        "  return df_porcentaje"
      ],
      "metadata": {
        "id": "J52lgio_meTS"
      },
      "execution_count": null,
      "outputs": []
    },
    {
      "cell_type": "code",
      "source": [
        "hermosillo = df_municipio(\"Hermosillo\")"
      ],
      "metadata": {
        "id": "IuOS7UEOkV96"
      },
      "execution_count": null,
      "outputs": []
    },
    {
      "cell_type": "code",
      "source": [
        "cajeme = df_municipio(\"Cajeme\")"
      ],
      "metadata": {
        "id": "-UWmmVZrvyUd"
      },
      "execution_count": null,
      "outputs": []
    },
    {
      "cell_type": "code",
      "source": [
        "guaymas = df_municipio(\"Guaymas\")"
      ],
      "metadata": {
        "id": "qmqL8CKHwy0H"
      },
      "execution_count": null,
      "outputs": []
    },
    {
      "cell_type": "code",
      "source": [
        "nogales = df_municipio(\"Nogales\")"
      ],
      "metadata": {
        "id": "IcJAv-_CxVUp"
      },
      "execution_count": null,
      "outputs": []
    },
    {
      "cell_type": "code",
      "source": [
        "slrc = df_municipio(\"San Luis Río Colorado\")"
      ],
      "metadata": {
        "id": "s8m6-d9wyfE5"
      },
      "execution_count": null,
      "outputs": []
    },
    {
      "cell_type": "code",
      "source": [
        "navojoa = df_municipio(\"Navojoa\")"
      ],
      "metadata": {
        "id": "AxbS6CBcy5Yy"
      },
      "execution_count": null,
      "outputs": []
    },
    {
      "cell_type": "code",
      "source": [
        "df_gasto_municipios = pd.DataFrame(\n",
        "    {\n",
        "      \"Capitulo\": list(navojoa[\"Capitulo\"]),\n",
        "      \"Navojoa\": list(navojoa[\"Porcentaje\"]),\n",
        "      \"Hermosillo\": list(hermosillo[\"Porcentaje\"]),\n",
        "      \"Cajeme\": list(cajeme[\"Porcentaje\"]),\n",
        "      \"Guaymas\": list(guaymas[\"Porcentaje\"]),\n",
        "      \"Nogales\": list(nogales[\"Porcentaje\"]),\n",
        "      \"SLRC\": list(slrc[\"Porcentaje\"])\n",
        "     \n",
        "    }\n",
        ")"
      ],
      "metadata": {
        "id": "HzE6iEECzPeE"
      },
      "execution_count": null,
      "outputs": []
    },
    {
      "cell_type": "code",
      "source": [
        "df_gasto_municipios"
      ],
      "metadata": {
        "colab": {
          "base_uri": "https://localhost:8080/",
          "height": 269
        },
        "id": "EGu8SSNJ5cKg",
        "outputId": "746228f7-aed4-4b45-c638-034288d0f70f"
      },
      "execution_count": null,
      "outputs": [
        {
          "output_type": "execute_result",
          "data": {
            "text/plain": [
              "                                            Capitulo   Navojoa  Hermosillo  \\\n",
              "0                               Servicios personales  0.350036    0.364185   \n",
              "1                           Materiales y suministros  0.064613    0.041984   \n",
              "2                                Servicios generales  0.195965    0.140273   \n",
              "3  Transferencias, asignaciones, subsidios y otra...  0.157880    0.078926   \n",
              "4            Bienes muebles, inmuebles e intangibles  0.099539    0.012171   \n",
              "5                                  Inversión pública  0.023607    0.101576   \n",
              "6                                      Deuda pública  0.044818    0.111678   \n",
              "\n",
              "     Cajeme   Guaymas   Nogales      SLRC  \n",
              "0  0.388811  0.396403  0.356948  0.341268  \n",
              "1  0.066195  0.042924  0.057951  0.107432  \n",
              "2  0.163818  0.130932  0.086828  0.124483  \n",
              "3  0.128238  0.127487  0.152753  0.137815  \n",
              "4  0.004236  0.003318  0.002720  0.032059  \n",
              "5  0.112809  0.117407  0.082477  0.235278  \n",
              "6  0.120385  0.181528  0.096083  0.021665  "
            ],
            "text/html": [
              "\n",
              "  <div id=\"df-ef6c4f38-466d-403a-8901-71bfb53339dd\">\n",
              "    <div class=\"colab-df-container\">\n",
              "      <div>\n",
              "<style scoped>\n",
              "    .dataframe tbody tr th:only-of-type {\n",
              "        vertical-align: middle;\n",
              "    }\n",
              "\n",
              "    .dataframe tbody tr th {\n",
              "        vertical-align: top;\n",
              "    }\n",
              "\n",
              "    .dataframe thead th {\n",
              "        text-align: right;\n",
              "    }\n",
              "</style>\n",
              "<table border=\"1\" class=\"dataframe\">\n",
              "  <thead>\n",
              "    <tr style=\"text-align: right;\">\n",
              "      <th></th>\n",
              "      <th>Capitulo</th>\n",
              "      <th>Navojoa</th>\n",
              "      <th>Hermosillo</th>\n",
              "      <th>Cajeme</th>\n",
              "      <th>Guaymas</th>\n",
              "      <th>Nogales</th>\n",
              "      <th>SLRC</th>\n",
              "    </tr>\n",
              "  </thead>\n",
              "  <tbody>\n",
              "    <tr>\n",
              "      <th>0</th>\n",
              "      <td>Servicios personales</td>\n",
              "      <td>0.350036</td>\n",
              "      <td>0.364185</td>\n",
              "      <td>0.388811</td>\n",
              "      <td>0.396403</td>\n",
              "      <td>0.356948</td>\n",
              "      <td>0.341268</td>\n",
              "    </tr>\n",
              "    <tr>\n",
              "      <th>1</th>\n",
              "      <td>Materiales y suministros</td>\n",
              "      <td>0.064613</td>\n",
              "      <td>0.041984</td>\n",
              "      <td>0.066195</td>\n",
              "      <td>0.042924</td>\n",
              "      <td>0.057951</td>\n",
              "      <td>0.107432</td>\n",
              "    </tr>\n",
              "    <tr>\n",
              "      <th>2</th>\n",
              "      <td>Servicios generales</td>\n",
              "      <td>0.195965</td>\n",
              "      <td>0.140273</td>\n",
              "      <td>0.163818</td>\n",
              "      <td>0.130932</td>\n",
              "      <td>0.086828</td>\n",
              "      <td>0.124483</td>\n",
              "    </tr>\n",
              "    <tr>\n",
              "      <th>3</th>\n",
              "      <td>Transferencias, asignaciones, subsidios y otra...</td>\n",
              "      <td>0.157880</td>\n",
              "      <td>0.078926</td>\n",
              "      <td>0.128238</td>\n",
              "      <td>0.127487</td>\n",
              "      <td>0.152753</td>\n",
              "      <td>0.137815</td>\n",
              "    </tr>\n",
              "    <tr>\n",
              "      <th>4</th>\n",
              "      <td>Bienes muebles, inmuebles e intangibles</td>\n",
              "      <td>0.099539</td>\n",
              "      <td>0.012171</td>\n",
              "      <td>0.004236</td>\n",
              "      <td>0.003318</td>\n",
              "      <td>0.002720</td>\n",
              "      <td>0.032059</td>\n",
              "    </tr>\n",
              "    <tr>\n",
              "      <th>5</th>\n",
              "      <td>Inversión pública</td>\n",
              "      <td>0.023607</td>\n",
              "      <td>0.101576</td>\n",
              "      <td>0.112809</td>\n",
              "      <td>0.117407</td>\n",
              "      <td>0.082477</td>\n",
              "      <td>0.235278</td>\n",
              "    </tr>\n",
              "    <tr>\n",
              "      <th>6</th>\n",
              "      <td>Deuda pública</td>\n",
              "      <td>0.044818</td>\n",
              "      <td>0.111678</td>\n",
              "      <td>0.120385</td>\n",
              "      <td>0.181528</td>\n",
              "      <td>0.096083</td>\n",
              "      <td>0.021665</td>\n",
              "    </tr>\n",
              "  </tbody>\n",
              "</table>\n",
              "</div>\n",
              "      <button class=\"colab-df-convert\" onclick=\"convertToInteractive('df-ef6c4f38-466d-403a-8901-71bfb53339dd')\"\n",
              "              title=\"Convert this dataframe to an interactive table.\"\n",
              "              style=\"display:none;\">\n",
              "        \n",
              "  <svg xmlns=\"http://www.w3.org/2000/svg\" height=\"24px\"viewBox=\"0 0 24 24\"\n",
              "       width=\"24px\">\n",
              "    <path d=\"M0 0h24v24H0V0z\" fill=\"none\"/>\n",
              "    <path d=\"M18.56 5.44l.94 2.06.94-2.06 2.06-.94-2.06-.94-.94-2.06-.94 2.06-2.06.94zm-11 1L8.5 8.5l.94-2.06 2.06-.94-2.06-.94L8.5 2.5l-.94 2.06-2.06.94zm10 10l.94 2.06.94-2.06 2.06-.94-2.06-.94-.94-2.06-.94 2.06-2.06.94z\"/><path d=\"M17.41 7.96l-1.37-1.37c-.4-.4-.92-.59-1.43-.59-.52 0-1.04.2-1.43.59L10.3 9.45l-7.72 7.72c-.78.78-.78 2.05 0 2.83L4 21.41c.39.39.9.59 1.41.59.51 0 1.02-.2 1.41-.59l7.78-7.78 2.81-2.81c.8-.78.8-2.07 0-2.86zM5.41 20L4 18.59l7.72-7.72 1.47 1.35L5.41 20z\"/>\n",
              "  </svg>\n",
              "      </button>\n",
              "      \n",
              "  <style>\n",
              "    .colab-df-container {\n",
              "      display:flex;\n",
              "      flex-wrap:wrap;\n",
              "      gap: 12px;\n",
              "    }\n",
              "\n",
              "    .colab-df-convert {\n",
              "      background-color: #E8F0FE;\n",
              "      border: none;\n",
              "      border-radius: 50%;\n",
              "      cursor: pointer;\n",
              "      display: none;\n",
              "      fill: #1967D2;\n",
              "      height: 32px;\n",
              "      padding: 0 0 0 0;\n",
              "      width: 32px;\n",
              "    }\n",
              "\n",
              "    .colab-df-convert:hover {\n",
              "      background-color: #E2EBFA;\n",
              "      box-shadow: 0px 1px 2px rgba(60, 64, 67, 0.3), 0px 1px 3px 1px rgba(60, 64, 67, 0.15);\n",
              "      fill: #174EA6;\n",
              "    }\n",
              "\n",
              "    [theme=dark] .colab-df-convert {\n",
              "      background-color: #3B4455;\n",
              "      fill: #D2E3FC;\n",
              "    }\n",
              "\n",
              "    [theme=dark] .colab-df-convert:hover {\n",
              "      background-color: #434B5C;\n",
              "      box-shadow: 0px 1px 3px 1px rgba(0, 0, 0, 0.15);\n",
              "      filter: drop-shadow(0px 1px 2px rgba(0, 0, 0, 0.3));\n",
              "      fill: #FFFFFF;\n",
              "    }\n",
              "  </style>\n",
              "\n",
              "      <script>\n",
              "        const buttonEl =\n",
              "          document.querySelector('#df-ef6c4f38-466d-403a-8901-71bfb53339dd button.colab-df-convert');\n",
              "        buttonEl.style.display =\n",
              "          google.colab.kernel.accessAllowed ? 'block' : 'none';\n",
              "\n",
              "        async function convertToInteractive(key) {\n",
              "          const element = document.querySelector('#df-ef6c4f38-466d-403a-8901-71bfb53339dd');\n",
              "          const dataTable =\n",
              "            await google.colab.kernel.invokeFunction('convertToInteractive',\n",
              "                                                     [key], {});\n",
              "          if (!dataTable) return;\n",
              "\n",
              "          const docLinkHtml = 'Like what you see? Visit the ' +\n",
              "            '<a target=\"_blank\" href=https://colab.research.google.com/notebooks/data_table.ipynb>data table notebook</a>'\n",
              "            + ' to learn more about interactive tables.';\n",
              "          element.innerHTML = '';\n",
              "          dataTable['output_type'] = 'display_data';\n",
              "          await google.colab.output.renderOutput(dataTable, element);\n",
              "          const docLink = document.createElement('div');\n",
              "          docLink.innerHTML = docLinkHtml;\n",
              "          element.appendChild(docLink);\n",
              "        }\n",
              "      </script>\n",
              "    </div>\n",
              "  </div>\n",
              "  "
            ]
          },
          "metadata": {},
          "execution_count": 33
        }
      ]
    },
    {
      "cell_type": "code",
      "source": [
        "# Obtenemos la lista de columnas que deseamos como índices excepto la columna capítulo,\n",
        "# extraeremos los valores para que ahora sean las columnas\n",
        "columnas = df_gasto_municipios.columns.values[1:]\n",
        "columnas"
      ],
      "metadata": {
        "id": "9b6rdDUMCZug",
        "colab": {
          "base_uri": "https://localhost:8080/"
        },
        "outputId": "bfe85b91-0f4f-4a2e-81b9-d416aad92f7c"
      },
      "execution_count": null,
      "outputs": [
        {
          "output_type": "execute_result",
          "data": {
            "text/plain": [
              "array(['Navojoa', 'Hermosillo', 'Cajeme', 'Guaymas', 'Nogales', 'SLRC'],\n",
              "      dtype=object)"
            ]
          },
          "metadata": {},
          "execution_count": 34
        }
      ]
    },
    {
      "cell_type": "code",
      "source": [
        "gasto_munic_pivot = pd.pivot_table(df_gasto_municipios, columns= 'Capitulo', values= columnas).reset_index()\n",
        "gasto_munic_pivot"
      ],
      "metadata": {
        "colab": {
          "base_uri": "https://localhost:8080/",
          "height": 299
        },
        "id": "O5RpksL5aLYO",
        "outputId": "b41ad247-3d83-4113-d5c2-018e5386dd81"
      },
      "execution_count": null,
      "outputs": [
        {
          "output_type": "execute_result",
          "data": {
            "text/plain": [
              "Capitulo       index  Bienes muebles, inmuebles e intangibles  Deuda pública  \\\n",
              "0             Cajeme                                 0.004236       0.120385   \n",
              "1            Guaymas                                 0.003318       0.181528   \n",
              "2         Hermosillo                                 0.012171       0.111678   \n",
              "3            Navojoa                                 0.099539       0.044818   \n",
              "4            Nogales                                 0.002720       0.096083   \n",
              "5               SLRC                                 0.032059       0.021665   \n",
              "\n",
              "Capitulo  Inversión pública  Materiales y suministros  Servicios generales  \\\n",
              "0                  0.112809                  0.066195             0.163818   \n",
              "1                  0.117407                  0.042924             0.130932   \n",
              "2                  0.101576                  0.041984             0.140273   \n",
              "3                  0.023607                  0.064613             0.195965   \n",
              "4                  0.082477                  0.057951             0.086828   \n",
              "5                  0.235278                  0.107432             0.124483   \n",
              "\n",
              "Capitulo  Servicios personales  \\\n",
              "0                     0.388811   \n",
              "1                     0.396403   \n",
              "2                     0.364185   \n",
              "3                     0.350036   \n",
              "4                     0.356948   \n",
              "5                     0.341268   \n",
              "\n",
              "Capitulo  Transferencias, asignaciones, subsidios y otras ayudas  \n",
              "0                                                  0.128238       \n",
              "1                                                  0.127487       \n",
              "2                                                  0.078926       \n",
              "3                                                  0.157880       \n",
              "4                                                  0.152753       \n",
              "5                                                  0.137815       "
            ],
            "text/html": [
              "\n",
              "  <div id=\"df-b388d275-8fbb-4ae3-885d-3d0b2e0aabbc\">\n",
              "    <div class=\"colab-df-container\">\n",
              "      <div>\n",
              "<style scoped>\n",
              "    .dataframe tbody tr th:only-of-type {\n",
              "        vertical-align: middle;\n",
              "    }\n",
              "\n",
              "    .dataframe tbody tr th {\n",
              "        vertical-align: top;\n",
              "    }\n",
              "\n",
              "    .dataframe thead th {\n",
              "        text-align: right;\n",
              "    }\n",
              "</style>\n",
              "<table border=\"1\" class=\"dataframe\">\n",
              "  <thead>\n",
              "    <tr style=\"text-align: right;\">\n",
              "      <th>Capitulo</th>\n",
              "      <th>index</th>\n",
              "      <th>Bienes muebles, inmuebles e intangibles</th>\n",
              "      <th>Deuda pública</th>\n",
              "      <th>Inversión pública</th>\n",
              "      <th>Materiales y suministros</th>\n",
              "      <th>Servicios generales</th>\n",
              "      <th>Servicios personales</th>\n",
              "      <th>Transferencias, asignaciones, subsidios y otras ayudas</th>\n",
              "    </tr>\n",
              "  </thead>\n",
              "  <tbody>\n",
              "    <tr>\n",
              "      <th>0</th>\n",
              "      <td>Cajeme</td>\n",
              "      <td>0.004236</td>\n",
              "      <td>0.120385</td>\n",
              "      <td>0.112809</td>\n",
              "      <td>0.066195</td>\n",
              "      <td>0.163818</td>\n",
              "      <td>0.388811</td>\n",
              "      <td>0.128238</td>\n",
              "    </tr>\n",
              "    <tr>\n",
              "      <th>1</th>\n",
              "      <td>Guaymas</td>\n",
              "      <td>0.003318</td>\n",
              "      <td>0.181528</td>\n",
              "      <td>0.117407</td>\n",
              "      <td>0.042924</td>\n",
              "      <td>0.130932</td>\n",
              "      <td>0.396403</td>\n",
              "      <td>0.127487</td>\n",
              "    </tr>\n",
              "    <tr>\n",
              "      <th>2</th>\n",
              "      <td>Hermosillo</td>\n",
              "      <td>0.012171</td>\n",
              "      <td>0.111678</td>\n",
              "      <td>0.101576</td>\n",
              "      <td>0.041984</td>\n",
              "      <td>0.140273</td>\n",
              "      <td>0.364185</td>\n",
              "      <td>0.078926</td>\n",
              "    </tr>\n",
              "    <tr>\n",
              "      <th>3</th>\n",
              "      <td>Navojoa</td>\n",
              "      <td>0.099539</td>\n",
              "      <td>0.044818</td>\n",
              "      <td>0.023607</td>\n",
              "      <td>0.064613</td>\n",
              "      <td>0.195965</td>\n",
              "      <td>0.350036</td>\n",
              "      <td>0.157880</td>\n",
              "    </tr>\n",
              "    <tr>\n",
              "      <th>4</th>\n",
              "      <td>Nogales</td>\n",
              "      <td>0.002720</td>\n",
              "      <td>0.096083</td>\n",
              "      <td>0.082477</td>\n",
              "      <td>0.057951</td>\n",
              "      <td>0.086828</td>\n",
              "      <td>0.356948</td>\n",
              "      <td>0.152753</td>\n",
              "    </tr>\n",
              "    <tr>\n",
              "      <th>5</th>\n",
              "      <td>SLRC</td>\n",
              "      <td>0.032059</td>\n",
              "      <td>0.021665</td>\n",
              "      <td>0.235278</td>\n",
              "      <td>0.107432</td>\n",
              "      <td>0.124483</td>\n",
              "      <td>0.341268</td>\n",
              "      <td>0.137815</td>\n",
              "    </tr>\n",
              "  </tbody>\n",
              "</table>\n",
              "</div>\n",
              "      <button class=\"colab-df-convert\" onclick=\"convertToInteractive('df-b388d275-8fbb-4ae3-885d-3d0b2e0aabbc')\"\n",
              "              title=\"Convert this dataframe to an interactive table.\"\n",
              "              style=\"display:none;\">\n",
              "        \n",
              "  <svg xmlns=\"http://www.w3.org/2000/svg\" height=\"24px\"viewBox=\"0 0 24 24\"\n",
              "       width=\"24px\">\n",
              "    <path d=\"M0 0h24v24H0V0z\" fill=\"none\"/>\n",
              "    <path d=\"M18.56 5.44l.94 2.06.94-2.06 2.06-.94-2.06-.94-.94-2.06-.94 2.06-2.06.94zm-11 1L8.5 8.5l.94-2.06 2.06-.94-2.06-.94L8.5 2.5l-.94 2.06-2.06.94zm10 10l.94 2.06.94-2.06 2.06-.94-2.06-.94-.94-2.06-.94 2.06-2.06.94z\"/><path d=\"M17.41 7.96l-1.37-1.37c-.4-.4-.92-.59-1.43-.59-.52 0-1.04.2-1.43.59L10.3 9.45l-7.72 7.72c-.78.78-.78 2.05 0 2.83L4 21.41c.39.39.9.59 1.41.59.51 0 1.02-.2 1.41-.59l7.78-7.78 2.81-2.81c.8-.78.8-2.07 0-2.86zM5.41 20L4 18.59l7.72-7.72 1.47 1.35L5.41 20z\"/>\n",
              "  </svg>\n",
              "      </button>\n",
              "      \n",
              "  <style>\n",
              "    .colab-df-container {\n",
              "      display:flex;\n",
              "      flex-wrap:wrap;\n",
              "      gap: 12px;\n",
              "    }\n",
              "\n",
              "    .colab-df-convert {\n",
              "      background-color: #E8F0FE;\n",
              "      border: none;\n",
              "      border-radius: 50%;\n",
              "      cursor: pointer;\n",
              "      display: none;\n",
              "      fill: #1967D2;\n",
              "      height: 32px;\n",
              "      padding: 0 0 0 0;\n",
              "      width: 32px;\n",
              "    }\n",
              "\n",
              "    .colab-df-convert:hover {\n",
              "      background-color: #E2EBFA;\n",
              "      box-shadow: 0px 1px 2px rgba(60, 64, 67, 0.3), 0px 1px 3px 1px rgba(60, 64, 67, 0.15);\n",
              "      fill: #174EA6;\n",
              "    }\n",
              "\n",
              "    [theme=dark] .colab-df-convert {\n",
              "      background-color: #3B4455;\n",
              "      fill: #D2E3FC;\n",
              "    }\n",
              "\n",
              "    [theme=dark] .colab-df-convert:hover {\n",
              "      background-color: #434B5C;\n",
              "      box-shadow: 0px 1px 3px 1px rgba(0, 0, 0, 0.15);\n",
              "      filter: drop-shadow(0px 1px 2px rgba(0, 0, 0, 0.3));\n",
              "      fill: #FFFFFF;\n",
              "    }\n",
              "  </style>\n",
              "\n",
              "      <script>\n",
              "        const buttonEl =\n",
              "          document.querySelector('#df-b388d275-8fbb-4ae3-885d-3d0b2e0aabbc button.colab-df-convert');\n",
              "        buttonEl.style.display =\n",
              "          google.colab.kernel.accessAllowed ? 'block' : 'none';\n",
              "\n",
              "        async function convertToInteractive(key) {\n",
              "          const element = document.querySelector('#df-b388d275-8fbb-4ae3-885d-3d0b2e0aabbc');\n",
              "          const dataTable =\n",
              "            await google.colab.kernel.invokeFunction('convertToInteractive',\n",
              "                                                     [key], {});\n",
              "          if (!dataTable) return;\n",
              "\n",
              "          const docLinkHtml = 'Like what you see? Visit the ' +\n",
              "            '<a target=\"_blank\" href=https://colab.research.google.com/notebooks/data_table.ipynb>data table notebook</a>'\n",
              "            + ' to learn more about interactive tables.';\n",
              "          element.innerHTML = '';\n",
              "          dataTable['output_type'] = 'display_data';\n",
              "          await google.colab.output.renderOutput(dataTable, element);\n",
              "          const docLink = document.createElement('div');\n",
              "          docLink.innerHTML = docLinkHtml;\n",
              "          element.appendChild(docLink);\n",
              "        }\n",
              "      </script>\n",
              "    </div>\n",
              "  </div>\n",
              "  "
            ]
          },
          "metadata": {},
          "execution_count": 35
        }
      ]
    },
    {
      "cell_type": "markdown",
      "source": [
        "Tenemos la tabla como se requiere para poder comparar los municipios por capítulo de gasto."
      ],
      "metadata": {
        "id": "sMbZpWegbQk_"
      }
    },
    {
      "cell_type": "code",
      "source": [
        "# Esta función nos ayuda a obtener el promedio de cada columna lo cual requeriremos en la visualización\n",
        "def gasto_prom(columna): \n",
        "    promedio = gasto_munic_pivot[columna].mean()\n",
        "    return promedio"
      ],
      "metadata": {
        "id": "pR-vIyUha3WL"
      },
      "execution_count": null,
      "outputs": []
    },
    {
      "cell_type": "code",
      "source": [
        "bmii = gasto_prom(\"Bienes muebles, inmuebles e intangibles\")\n",
        "bmii"
      ],
      "metadata": {
        "colab": {
          "base_uri": "https://localhost:8080/"
        },
        "id": "lYniucqmcV4e",
        "outputId": "9088e49c-8ab1-49b5-a063-d3fe7ef08165"
      },
      "execution_count": null,
      "outputs": [
        {
          "output_type": "execute_result",
          "data": {
            "text/plain": [
              "0.025673898765034772"
            ]
          },
          "metadata": {},
          "execution_count": 37
        }
      ]
    },
    {
      "cell_type": "markdown",
      "source": [
        "## Bienes Muebles, Inmuebles e Intangibles"
      ],
      "metadata": {
        "id": "exhhM-CdlVJa"
      }
    },
    {
      "cell_type": "markdown",
      "source": [
        "Realizamos la primera gráfica comparando la columna \"Bienes muebles, inmuebles e intangibles\" para todos los municipios."
      ],
      "metadata": {
        "id": "DFd8XrWEd84X"
      }
    },
    {
      "cell_type": "code",
      "source": [
        "sns.barplot(data= gasto_munic_pivot, x=  \"index\", y= \"Bienes muebles, inmuebles e intangibles\")\n",
        "sns.lineplot(data= gasto_munic_pivot, x= \"index\", y= bmii)"
      ],
      "metadata": {
        "colab": {
          "base_uri": "https://localhost:8080/",
          "height": 296
        },
        "id": "tCIs2H1sdfVJ",
        "outputId": "98bbd376-5871-48ac-b6cd-29465c51305a"
      },
      "execution_count": null,
      "outputs": [
        {
          "output_type": "execute_result",
          "data": {
            "text/plain": [
              "<matplotlib.axes._subplots.AxesSubplot at 0x7f87a759ac90>"
            ]
          },
          "metadata": {},
          "execution_count": 38
        },
        {
          "output_type": "display_data",
          "data": {
            "text/plain": [
              "<Figure size 432x288 with 1 Axes>"
            ],
            "image/png": "[encoded data removed]"
          },
          "metadata": {
            "needs_background": "light"
          }
        }
      ]
    },
    {
      "cell_type": "code",
      "source": [
        "valor_egr_total"
      ],
      "metadata": {
        "colab": {
          "base_uri": "https://localhost:8080/"
        },
        "id": "yrenGbGMmKdM",
        "outputId": "13561d50-6a62-41a9-cc03-042ef56d0959"
      },
      "execution_count": null,
      "outputs": [
        {
          "output_type": "execute_result",
          "data": {
            "text/plain": [
              "623001575"
            ]
          },
          "metadata": {},
          "execution_count": 39
        }
      ]
    },
    {
      "cell_type": "markdown",
      "source": [
        "Lo primero que podemos notar en esta gráfica es que el municipio de Navojoa ha gastado el 10% de sus recursos en el capítulo de bienes muebles, inmuebles e intangibles\", muy por encima del promedio y del gasto total de todos los municipios de la lista. Siendo que las erogaciones totales del municipio en 2018 fueron de $623,001,575 pesos, esto significa que se destinaron alrededor de 62 millones de pesos a este rubro. Aquí sería pertinente investigar cuál es la causa de tal erogación y en que bienes se invirtió un porcentaje tan elevado del presupuesto de egresos."
      ],
      "metadata": {
        "id": "v-6DBQBygewX"
      }
    },
    {
      "cell_type": "markdown",
      "source": [
        "## Deuda Pública"
      ],
      "metadata": {
        "id": "B2zXQdq4lnZm"
      }
    },
    {
      "cell_type": "code",
      "source": [
        "dp = gasto_prom(\"Deuda pública\")"
      ],
      "metadata": {
        "id": "ejV_ID7wmcEr"
      },
      "execution_count": null,
      "outputs": []
    },
    {
      "cell_type": "code",
      "source": [
        "sns.barplot(data= gasto_munic_pivot, x=  \"index\", y= \"Deuda pública\")\n",
        "sns.lineplot(data= gasto_munic_pivot, x= \"index\", y= dp)"
      ],
      "metadata": {
        "colab": {
          "base_uri": "https://localhost:8080/",
          "height": 296
        },
        "id": "Sc-vFQ_vibij",
        "outputId": "8f3e5618-dc34-4a3c-9050-27dcc67fe1eb"
      },
      "execution_count": null,
      "outputs": [
        {
          "output_type": "execute_result",
          "data": {
            "text/plain": [
              "<matplotlib.axes._subplots.AxesSubplot at 0x7f87a75d3990>"
            ]
          },
          "metadata": {},
          "execution_count": 41
        },
        {
          "output_type": "display_data",
          "data": {
            "text/plain": [
              "<Figure size 432x288 with 1 Axes>"
            ],
            "image/png": "[encoded data removed]"
          },
          "metadata": {
            "needs_background": "light"
          }
        }
      ]
    },
    {
      "cell_type": "markdown",
      "source": [
        "En esta gráfica podemos ver, como aspecto positivo, que el municipio de Navojoa destina poco menos de 5% al pago de la deuda pública y que además es uno de los municipios que menos destinan a esta área del gasto público. El promedio de los municipios en este aspecto es de 10%, por lo que estar por debajo de esa línea es un buen indicador."
      ],
      "metadata": {
        "id": "w1qcmNVanDnt"
      }
    },
    {
      "cell_type": "markdown",
      "source": [
        "## Inversión Pública"
      ],
      "metadata": {
        "id": "Or4fSzyFltL1"
      }
    },
    {
      "cell_type": "code",
      "source": [
        "ip = gasto_prom(\"Inversión pública\")"
      ],
      "metadata": {
        "id": "fsC71LCcoe2D"
      },
      "execution_count": null,
      "outputs": []
    },
    {
      "cell_type": "code",
      "source": [
        "sns.barplot(data= gasto_munic_pivot, x=  \"index\", y= \"Inversión pública\")\n",
        "sns.lineplot(data= gasto_munic_pivot, x= \"index\", y= ip)"
      ],
      "metadata": {
        "colab": {
          "base_uri": "https://localhost:8080/",
          "height": 296
        },
        "id": "-z6aAwqPmnwy",
        "outputId": "88234d8b-c397-45b9-e87c-25b918bebe34"
      },
      "execution_count": null,
      "outputs": [
        {
          "output_type": "execute_result",
          "data": {
            "text/plain": [
              "<matplotlib.axes._subplots.AxesSubplot at 0x7f87a6f638d0>"
            ]
          },
          "metadata": {},
          "execution_count": 43
        },
        {
          "output_type": "display_data",
          "data": {
            "text/plain": [
              "<Figure size 432x288 with 1 Axes>"
            ],
            "image/png": "[encoded data removed]"
          },
          "metadata": {
            "needs_background": "light"
          }
        }
      ]
    },
    {
      "cell_type": "markdown",
      "source": [
        "En este gráfico se observa que que el presupuesto destinado a Inversión Pública en el municipio de Navojoa es el menor de los 6 localidades comparadas, con apenas el 2.4%, mientras que el promedio es de poco más de 10%."
      ],
      "metadata": {
        "id": "OfRTNvvKlQnJ"
      }
    },
    {
      "cell_type": "markdown",
      "source": [
        "## Materiales y Suministros"
      ],
      "metadata": {
        "id": "z8i_sqZSm1Q1"
      }
    },
    {
      "cell_type": "code",
      "source": [
        "ms = gasto_prom(\"Materiales y suministros\")\n",
        "ms"
      ],
      "metadata": {
        "id": "C9u5VILhpBqh",
        "colab": {
          "base_uri": "https://localhost:8080/"
        },
        "outputId": "2826f3c9-70f3-4429-8aa9-13dfc35277b4"
      },
      "execution_count": null,
      "outputs": [
        {
          "output_type": "execute_result",
          "data": {
            "text/plain": [
              "0.06351677570532008"
            ]
          },
          "metadata": {},
          "execution_count": 44
        }
      ]
    },
    {
      "cell_type": "code",
      "source": [
        "sns.barplot(data= gasto_munic_pivot, x=  \"index\", y= \"Materiales y suministros\")\n",
        "sns.lineplot(data= gasto_munic_pivot, x= \"index\", y= ms)"
      ],
      "metadata": {
        "colab": {
          "base_uri": "https://localhost:8080/",
          "height": 296
        },
        "id": "6MNx-tkwnDY-",
        "outputId": "da43c24c-bb67-46b3-c222-350a8d280571"
      },
      "execution_count": null,
      "outputs": [
        {
          "output_type": "execute_result",
          "data": {
            "text/plain": [
              "<matplotlib.axes._subplots.AxesSubplot at 0x7f87a6442110>"
            ]
          },
          "metadata": {},
          "execution_count": 45
        },
        {
          "output_type": "display_data",
          "data": {
            "text/plain": [
              "<Figure size 432x288 with 1 Axes>"
            ],
            "image/png": "[encoded data removed]"
          },
          "metadata": {
            "needs_background": "light"
          }
        }
      ]
    },
    {
      "cell_type": "markdown",
      "source": [
        "En esta imagen se muestra el nivel de gasto del municipio de Navojoa en cuanto al capítulo Materiales y Suministros, el cual es de poco más del 6%, muy cercano al promedio. Sin embargo, hay que anotar que Navojoa se encuentra entre los tres primeros con mayor gasto en este aspecto."
      ],
      "metadata": {
        "id": "Yof0DoWknwjY"
      }
    },
    {
      "cell_type": "markdown",
      "source": [
        "## Servicios generales"
      ],
      "metadata": {
        "id": "jC9jD-k0qeGo"
      }
    },
    {
      "cell_type": "code",
      "source": [
        "sg = gasto_prom(\"Servicios generales\")\n",
        "sg"
      ],
      "metadata": {
        "colab": {
          "base_uri": "https://localhost:8080/"
        },
        "id": "y4ltxC15nOdt",
        "outputId": "5cd654db-dd41-4064-e6c6-d4aa58e4c73e"
      },
      "execution_count": null,
      "outputs": [
        {
          "output_type": "execute_result",
          "data": {
            "text/plain": [
              "0.14038299379993302"
            ]
          },
          "metadata": {},
          "execution_count": 46
        }
      ]
    },
    {
      "cell_type": "code",
      "source": [
        "sns.barplot(data= gasto_munic_pivot, x=  \"index\", y= \"Servicios generales\")\n",
        "sns.lineplot(data= gasto_munic_pivot, x= \"index\", y= sg)"
      ],
      "metadata": {
        "colab": {
          "base_uri": "https://localhost:8080/",
          "height": 296
        },
        "id": "KF_GdANrqm_o",
        "outputId": "2d99d809-318f-40d5-e187-2d0e98b8e4b5"
      },
      "execution_count": null,
      "outputs": [
        {
          "output_type": "execute_result",
          "data": {
            "text/plain": [
              "<matplotlib.axes._subplots.AxesSubplot at 0x7f87a6255410>"
            ]
          },
          "metadata": {},
          "execution_count": 47
        },
        {
          "output_type": "display_data",
          "data": {
            "text/plain": [
              "<Figure size 432x288 with 1 Axes>"
            ],
            "image/png": "[encoded data removed]"
          },
          "metadata": {
            "needs_background": "light"
          }
        }
      ]
    },
    {
      "cell_type": "markdown",
      "source": [
        "En este gráfico se puede observar que Navojoa es el municipio que más ha gastado en servicios generales, en 2018, con un monto cercano al 20%, muy por encima del promedio que es de 14%."
      ],
      "metadata": {
        "id": "cF10-RMjrBcR"
      }
    },
    {
      "cell_type": "markdown",
      "source": [
        "## Servicios personales"
      ],
      "metadata": {
        "id": "obisX7m_saap"
      }
    },
    {
      "cell_type": "code",
      "source": [
        "sp = gasto_prom(\"Servicios personales\")\n",
        "sp"
      ],
      "metadata": {
        "colab": {
          "base_uri": "https://localhost:8080/"
        },
        "id": "oTdWce0WqvZp",
        "outputId": "7b31b2c8-166f-4bf1-9a44-fed037be571c"
      },
      "execution_count": null,
      "outputs": [
        {
          "output_type": "execute_result",
          "data": {
            "text/plain": [
              "0.3662751260554904"
            ]
          },
          "metadata": {},
          "execution_count": 48
        }
      ]
    },
    {
      "cell_type": "code",
      "source": [
        "sns.barplot(data= gasto_munic_pivot, x=  \"index\", y= \"Servicios personales\")\n",
        "sns.lineplot(data= gasto_munic_pivot, x= \"index\", y= sp)"
      ],
      "metadata": {
        "colab": {
          "base_uri": "https://localhost:8080/",
          "height": 296
        },
        "id": "NNGBwURJsny9",
        "outputId": "1faa73cf-a635-4560-e3b4-4061ab45260e"
      },
      "execution_count": null,
      "outputs": [
        {
          "output_type": "execute_result",
          "data": {
            "text/plain": [
              "<matplotlib.axes._subplots.AxesSubplot at 0x7f87a61b3c90>"
            ]
          },
          "metadata": {},
          "execution_count": 49
        },
        {
          "output_type": "display_data",
          "data": {
            "text/plain": [
              "<Figure size 432x288 with 1 Axes>"
            ],
            "image/png": "[encoded data removed]"
          },
          "metadata": {
            "needs_background": "light"
          }
        }
      ]
    },
    {
      "cell_type": "markdown",
      "source": [
        "En el capítulo del gasto correspondiente a Servicios personales todos los municipios están muy cerca del promedio, el cual es de 36.6%. Navojoa está un punto pocentual por debajo de esa cifra, es decir, en 35%."
      ],
      "metadata": {
        "id": "Krlb3XE7t-ag"
      }
    },
    {
      "cell_type": "markdown",
      "source": [
        "## Transferencias, asignaciones, subsidios y otras ayudas"
      ],
      "metadata": {
        "id": "rHMXet9_vy9X"
      }
    },
    {
      "cell_type": "code",
      "source": [
        "taso = gasto_prom(\"Transferencias, asignaciones, subsidios y otras ayudas\")\n",
        "taso"
      ],
      "metadata": {
        "colab": {
          "base_uri": "https://localhost:8080/"
        },
        "id": "gX7Yri0fsw8v",
        "outputId": "b2a6aec6-9c84-4004-a8c3-e4d9ef1c785e"
      },
      "execution_count": null,
      "outputs": [
        {
          "output_type": "execute_result",
          "data": {
            "text/plain": [
              "0.1305165292072834"
            ]
          },
          "metadata": {},
          "execution_count": 50
        }
      ]
    },
    {
      "cell_type": "code",
      "source": [
        "taso_nav = gasto_munic_pivot[gasto_munic_pivot[\"index\"]== \"Navojoa\"]\n",
        "taso_nav"
      ],
      "metadata": {
        "colab": {
          "base_uri": "https://localhost:8080/",
          "height": 142
        },
        "id": "BBInSn4hwqg4",
        "outputId": "5683c2e2-6a92-483f-b317-a619e307bb6f"
      },
      "execution_count": null,
      "outputs": [
        {
          "output_type": "execute_result",
          "data": {
            "text/plain": [
              "Capitulo    index  Bienes muebles, inmuebles e intangibles  Deuda pública  \\\n",
              "3         Navojoa                                 0.099539       0.044818   \n",
              "\n",
              "Capitulo  Inversión pública  Materiales y suministros  Servicios generales  \\\n",
              "3                  0.023607                  0.064613             0.195965   \n",
              "\n",
              "Capitulo  Servicios personales  \\\n",
              "3                     0.350036   \n",
              "\n",
              "Capitulo  Transferencias, asignaciones, subsidios y otras ayudas  \n",
              "3                                                   0.15788       "
            ],
            "text/html": [
              "\n",
              "  <div id=\"df-82592b31-3ade-4904-a874-09730e190391\">\n",
              "    <div class=\"colab-df-container\">\n",
              "      <div>\n",
              "<style scoped>\n",
              "    .dataframe tbody tr th:only-of-type {\n",
              "        vertical-align: middle;\n",
              "    }\n",
              "\n",
              "    .dataframe tbody tr th {\n",
              "        vertical-align: top;\n",
              "    }\n",
              "\n",
              "    .dataframe thead th {\n",
              "        text-align: right;\n",
              "    }\n",
              "</style>\n",
              "<table border=\"1\" class=\"dataframe\">\n",
              "  <thead>\n",
              "    <tr style=\"text-align: right;\">\n",
              "      <th>Capitulo</th>\n",
              "      <th>index</th>\n",
              "      <th>Bienes muebles, inmuebles e intangibles</th>\n",
              "      <th>Deuda pública</th>\n",
              "      <th>Inversión pública</th>\n",
              "      <th>Materiales y suministros</th>\n",
              "      <th>Servicios generales</th>\n",
              "      <th>Servicios personales</th>\n",
              "      <th>Transferencias, asignaciones, subsidios y otras ayudas</th>\n",
              "    </tr>\n",
              "  </thead>\n",
              "  <tbody>\n",
              "    <tr>\n",
              "      <th>3</th>\n",
              "      <td>Navojoa</td>\n",
              "      <td>0.099539</td>\n",
              "      <td>0.044818</td>\n",
              "      <td>0.023607</td>\n",
              "      <td>0.064613</td>\n",
              "      <td>0.195965</td>\n",
              "      <td>0.350036</td>\n",
              "      <td>0.15788</td>\n",
              "    </tr>\n",
              "  </tbody>\n",
              "</table>\n",
              "</div>\n",
              "      <button class=\"colab-df-convert\" onclick=\"convertToInteractive('df-82592b31-3ade-4904-a874-09730e190391')\"\n",
              "              title=\"Convert this dataframe to an interactive table.\"\n",
              "              style=\"display:none;\">\n",
              "        \n",
              "  <svg xmlns=\"http://www.w3.org/2000/svg\" height=\"24px\"viewBox=\"0 0 24 24\"\n",
              "       width=\"24px\">\n",
              "    <path d=\"M0 0h24v24H0V0z\" fill=\"none\"/>\n",
              "    <path d=\"M18.56 5.44l.94 2.06.94-2.06 2.06-.94-2.06-.94-.94-2.06-.94 2.06-2.06.94zm-11 1L8.5 8.5l.94-2.06 2.06-.94-2.06-.94L8.5 2.5l-.94 2.06-2.06.94zm10 10l.94 2.06.94-2.06 2.06-.94-2.06-.94-.94-2.06-.94 2.06-2.06.94z\"/><path d=\"M17.41 7.96l-1.37-1.37c-.4-.4-.92-.59-1.43-.59-.52 0-1.04.2-1.43.59L10.3 9.45l-7.72 7.72c-.78.78-.78 2.05 0 2.83L4 21.41c.39.39.9.59 1.41.59.51 0 1.02-.2 1.41-.59l7.78-7.78 2.81-2.81c.8-.78.8-2.07 0-2.86zM5.41 20L4 18.59l7.72-7.72 1.47 1.35L5.41 20z\"/>\n",
              "  </svg>\n",
              "      </button>\n",
              "      \n",
              "  <style>\n",
              "    .colab-df-container {\n",
              "      display:flex;\n",
              "      flex-wrap:wrap;\n",
              "      gap: 12px;\n",
              "    }\n",
              "\n",
              "    .colab-df-convert {\n",
              "      background-color: #E8F0FE;\n",
              "      border: none;\n",
              "      border-radius: 50%;\n",
              "      cursor: pointer;\n",
              "      display: none;\n",
              "      fill: #1967D2;\n",
              "      height: 32px;\n",
              "      padding: 0 0 0 0;\n",
              "      width: 32px;\n",
              "    }\n",
              "\n",
              "    .colab-df-convert:hover {\n",
              "      background-color: #E2EBFA;\n",
              "      box-shadow: 0px 1px 2px rgba(60, 64, 67, 0.3), 0px 1px 3px 1px rgba(60, 64, 67, 0.15);\n",
              "      fill: #174EA6;\n",
              "    }\n",
              "\n",
              "    [theme=dark] .colab-df-convert {\n",
              "      background-color: #3B4455;\n",
              "      fill: #D2E3FC;\n",
              "    }\n",
              "\n",
              "    [theme=dark] .colab-df-convert:hover {\n",
              "      background-color: #434B5C;\n",
              "      box-shadow: 0px 1px 3px 1px rgba(0, 0, 0, 0.15);\n",
              "      filter: drop-shadow(0px 1px 2px rgba(0, 0, 0, 0.3));\n",
              "      fill: #FFFFFF;\n",
              "    }\n",
              "  </style>\n",
              "\n",
              "      <script>\n",
              "        const buttonEl =\n",
              "          document.querySelector('#df-82592b31-3ade-4904-a874-09730e190391 button.colab-df-convert');\n",
              "        buttonEl.style.display =\n",
              "          google.colab.kernel.accessAllowed ? 'block' : 'none';\n",
              "\n",
              "        async function convertToInteractive(key) {\n",
              "          const element = document.querySelector('#df-82592b31-3ade-4904-a874-09730e190391');\n",
              "          const dataTable =\n",
              "            await google.colab.kernel.invokeFunction('convertToInteractive',\n",
              "                                                     [key], {});\n",
              "          if (!dataTable) return;\n",
              "\n",
              "          const docLinkHtml = 'Like what you see? Visit the ' +\n",
              "            '<a target=\"_blank\" href=https://colab.research.google.com/notebooks/data_table.ipynb>data table notebook</a>'\n",
              "            + ' to learn more about interactive tables.';\n",
              "          element.innerHTML = '';\n",
              "          dataTable['output_type'] = 'display_data';\n",
              "          await google.colab.output.renderOutput(dataTable, element);\n",
              "          const docLink = document.createElement('div');\n",
              "          docLink.innerHTML = docLinkHtml;\n",
              "          element.appendChild(docLink);\n",
              "        }\n",
              "      </script>\n",
              "    </div>\n",
              "  </div>\n",
              "  "
            ]
          },
          "metadata": {},
          "execution_count": 56
        }
      ]
    },
    {
      "cell_type": "code",
      "source": [
        "sns.barplot(data= gasto_munic_pivot, x=  \"index\", y= \"Transferencias, asignaciones, subsidios y otras ayudas\")\n",
        "sns.lineplot(data= gasto_munic_pivot, x= \"index\", y= taso)"
      ],
      "metadata": {
        "colab": {
          "base_uri": "https://localhost:8080/",
          "height": 324
        },
        "id": "TVtcMHsxv7HE",
        "outputId": "d4dd198c-43f3-4dff-eb8c-1f0a26799083"
      },
      "execution_count": null,
      "outputs": [
        {
          "output_type": "execute_result",
          "data": {
            "text/plain": [
              "<matplotlib.axes._subplots.AxesSubplot at 0x7f87a60de490>"
            ]
          },
          "metadata": {},
          "execution_count": 51
        },
        {
          "output_type": "display_data",
          "data": {
            "text/plain": [
              "<Figure size 432x288 with 1 Axes>"
            ],
            "image/png": "[encoded data removed]"
          },
          "metadata": {
            "needs_background": "light"
          }
        }
      ]
    },
    {
      "cell_type": "markdown",
      "source": [
        "En el rubro de \"Transferencias, asignaciones, subsidios y otras ayudas\" el promedio de gasto es del 13%. Navojoa ha destinado para este capítulo 15.8% de su presupuesto."
      ],
      "metadata": {
        "id": "5sx-n2QowUW-"
      }
    },
    {
      "cell_type": "markdown",
      "source": [
        "## Conclusión"
      ],
      "metadata": {
        "id": "minurDWNzgQt"
      }
    },
    {
      "cell_type": "markdown",
      "source": [
        "En respuesta a las preguntas que se han planteado al inicio de esta investigación, se ha encontrado que el capítulo que mayor gasto ha representado para el municipio de Navojoa en 2018 es el de “Servicios personales” donde está incluido el pago de nómina. Este rubro de gasto asciende a $218,072,744 pesos, lo cual representa el 35% de las erogaciones totales.\n",
        "\n",
        "Por otro lado, el capítulo del gasto en que se ha ejercido la menor cantidad de recursos económicos es en el de “Inversión pública”, con una cifra de $27,921,895 pesos, equivalente al 4.5% del gasto total.\n",
        "\n",
        "La comparación con los 5 municipios más importantes del estado de Sonora, de acuerdo a su población, arroja algunos puntos dignos de ser tomados en cuenta para profundizar en ellos o para trazar estrategias que ayuden a mejorar el desempeño de las finanzas municipales y, por tanto, el valor público generado.\n",
        "\n",
        "Uno de estos puntos es el hecho de que, de los municipios comparados, Navojoa es el que más gasta en tres de los 7 capítulos “Bienes Muebles, Inmuebles e Intangibles”, “Servicios generales” y en “Transferencias, asignaciones, subsidios y otras ayudas”, cuyos promedios son 2.6%, 14% y 13% respectivamente.\n",
        "\n",
        "El nivel de gasto que presenta el municipio en estos capítulos es de: 10%, 19.6% y 15.8%. Esto significa que los gastos totales del municipio de Navojoa son 15.8% mayores al promedio de los demás municipios en estos capítulos. \n",
        "Tomando en cuenta que un 1% representa 6.2 millones de pesos, este 15.8% representa poco más de 90 millones de pesos que pueden optimizarse para atender otros aspectos del gasto como la “Inversión Pública” o el desarrollo de otros programas de beneficio social y económico.\n"
      ],
      "metadata": {
        "id": "ZyZzWs9Wzmza"
      }
    },
    {
      "cell_type": "code",
      "source": [],
      "metadata": {
        "id": "yF8sRJVwwIbU"
      },
      "execution_count": null,
      "outputs": []
    }
  ]
}